{
  "cells": [
    {
      "cell_type": "markdown",
      "metadata": {
        "id": "rngwIqENv6Gy"
      },
      "source": [
        "# Statistical Modeling in Python"
      ]
    },
    {
      "cell_type": "markdown",
      "metadata": {
        "tags": [],
        "id": "xg4l_XO5v6G4"
      },
      "source": [
        "### Customization vs Rapid Development\n",
        "\n",
        "As we know from (painful?) experience, Python is powerful because of its ability to leverage `numpy` and `scipy` to implement any statistical model from scratch. We can write the requisite matrix algebra, or the relevant likelihood function, and from there can optimize our model, calculate confidence intervals, and report the output of that model through data frames, lists, or printed tables. Building our own models is great! We get to build a model based on the exact context and assumptions of our problem, and therefore get exactly the model that we wanted. Unfortunately, it takes a LOT of time!\n",
        "\n",
        "This lesson will provide our first exposure to pre-written statistical modeling in Python. We will be able to use only a couple of lines of code to implement complex and valuable statistical and machine learning models. Because the most costly asset in programming is the time that we spend debugging and writing code (running code is MUCH faster and cheaper than the time spent writing code), we are always looking for ways to avoid writing code that someone else has already written.\n",
        "\n",
        "`statsmodels` is a library that covers the majority of regression models commonly used by economists and statisticians in other fields.\n",
        "\n",
        "`sklearn` is an analogous library that covers machine learning models (aside from deep neural networks, which have their own implementations).\n",
        "\n",
        "Each of these libraries is highly optimized to provide performant implementations of models that we use regularly, and allow us to avoid writing these models from scratch unless we need to customize our model for some specific use case! This is great news! You'll never have to think about writing your own linear or logistic regression from scratch again!\n",
        "\n",
        "Let's dive in.\n"
      ]
    },
    {
      "cell_type": "markdown",
      "metadata": {
        "id": "tfOBGYMTv6G6"
      },
      "source": [
        "## Statsmodels"
      ]
    },
    {
      "cell_type": "markdown",
      "metadata": {
        "id": "49M5wCOEv6G6"
      },
      "source": [
        "`statsmodels` makes statistics in Python easy! The library contains tools for regressions ranging from linear regression, to logistic regression, count regressions (negative binomial and poisson), various options for robust covariance measures, and tools to implement time series models as well! There are also really useful tools for assisting in creating our regression model based on any structure that best suits us.\n",
        "\n",
        "We can import `statsmodels` in one of two ways:\n",
        "\n",
        "1) With support for R-style formulas:"
      ]
    },
    {
      "cell_type": "code",
      "execution_count": null,
      "metadata": {
        "id": "F-C7VNfNv6G7"
      },
      "outputs": [],
      "source": [
        "import statsmodels.formula.api as sm"
      ]
    },
    {
      "cell_type": "markdown",
      "metadata": {
        "id": "3WDZdrJyv6G9"
      },
      "source": [
        "    /opt/conda/lib/python3.7/site-packages/statsmodels/tools/_testing.py:19: FutureWarning: pandas.util.testing is deprecated. Use the functions in the public API at pandas.testing instead.\n",
        "      import pandas.util.testing as tm\n",
        "\n",
        "\n",
        "This is probably the best way to import our data if we are doing regression analysis for causal inference. In these cases, we are not typically trying to make predictions as new data arrives, and so we do not need to have tools ready to analyze new data using our existing regression models.\n",
        "\n",
        "2) Import `statsmodels` to use pre-built numpy arrays as inputs:"
      ]
    },
    {
      "cell_type": "code",
      "execution_count": null,
      "metadata": {
        "id": "4rJO4Mzav6G9"
      },
      "outputs": [],
      "source": [
        "import statsmodels.api as sm"
      ]
    },
    {
      "cell_type": "markdown",
      "metadata": {
        "id": "gAzzrU_5v6G-"
      },
      "source": [
        "In this case, we have other tools that we can use, but we need to manually arrange our `x` and `y` matrices. It looks clunky at first, but can be useful when we are building predictive pipelines using regression models, or when we might want to use both `statsmodels` and `sklearn` with the same data source.\n",
        "\n",
        "Let's start with option 1..."
      ]
    },
    {
      "cell_type": "markdown",
      "metadata": {
        "id": "OK3by8hOv6G_"
      },
      "source": [
        "### Preparing a Dataset"
      ]
    },
    {
      "cell_type": "markdown",
      "metadata": {
        "id": "lshtoZztv6G_"
      },
      "source": [
        "When using formulas, we prepare our dataset by importing the data into a Pandas `DataFrame`. We should take care that each of our variables has a name with\n",
        "1) **No spaces**\n",
        "2) No symbols\n",
        "3) Made up of letters and numbers (also can't have a number as the first character)\n",
        "\n",
        "Our code so far might look something like:"
      ]
    },
    {
      "cell_type": "code",
      "execution_count": 2,
      "metadata": {
        "collapsed": true,
        "colab": {
          "base_uri": "https://localhost:8080/",
          "height": 273
        },
        "id": "lNYRXR0_v6HA",
        "outputId": "5a19c88c-39ff-430a-8c98-4059cf98002e"
      },
      "outputs": [
        {
          "output_type": "execute_result",
          "data": {
            "text/plain": [
              "   Unnamed: 0     index  year  datanum    serial   hhwt  cpi99  region  \\\n",
              "0           0  20134147  2014        1  730568.0   23.0  0.704      22   \n",
              "1           1  20134148  2014        1  730568.0   23.0  0.704      22   \n",
              "2           2  20134149  2014        1  730569.0   43.0  0.704      22   \n",
              "3           3  20134151  2014        1  730571.0  110.0  0.704      22   \n",
              "4           4  20134152  2014        1  730571.0  110.0  0.704      22   \n",
              "\n",
              "   statefip  countyfips  ...  ind5  ind6  ind7  ind8  ind9  ind10  ind11  \\\n",
              "0        31           0  ...     0     0     1     0     0      0      0   \n",
              "1        31           0  ...     0     0     0     0     0      0      0   \n",
              "2        31           0  ...     0     0     0     0     0      0      0   \n",
              "3        31           0  ...     0     0     1     0     0      0      0   \n",
              "4        31           0  ...     0     0     0     0     0      0      0   \n",
              "\n",
              "   weekswork  totalhrs     hrwage  \n",
              "0       52.0    2080.0   9.134615  \n",
              "1       52.0    2080.0  12.019231  \n",
              "2        NaN       NaN        NaN  \n",
              "3       52.0    2080.0  19.230769  \n",
              "4       52.0    2080.0  15.384615  \n",
              "\n",
              "[5 rows x 95 columns]"
            ],
            "text/html": [
              "\n",
              "  <div id=\"df-63028b87-67bf-453b-b147-fc1d70b42341\" class=\"colab-df-container\">\n",
              "    <div>\n",
              "<style scoped>\n",
              "    .dataframe tbody tr th:only-of-type {\n",
              "        vertical-align: middle;\n",
              "    }\n",
              "\n",
              "    .dataframe tbody tr th {\n",
              "        vertical-align: top;\n",
              "    }\n",
              "\n",
              "    .dataframe thead th {\n",
              "        text-align: right;\n",
              "    }\n",
              "</style>\n",
              "<table border=\"1\" class=\"dataframe\">\n",
              "  <thead>\n",
              "    <tr style=\"text-align: right;\">\n",
              "      <th></th>\n",
              "      <th>Unnamed: 0</th>\n",
              "      <th>index</th>\n",
              "      <th>year</th>\n",
              "      <th>datanum</th>\n",
              "      <th>serial</th>\n",
              "      <th>hhwt</th>\n",
              "      <th>cpi99</th>\n",
              "      <th>region</th>\n",
              "      <th>statefip</th>\n",
              "      <th>countyfips</th>\n",
              "      <th>...</th>\n",
              "      <th>ind5</th>\n",
              "      <th>ind6</th>\n",
              "      <th>ind7</th>\n",
              "      <th>ind8</th>\n",
              "      <th>ind9</th>\n",
              "      <th>ind10</th>\n",
              "      <th>ind11</th>\n",
              "      <th>weekswork</th>\n",
              "      <th>totalhrs</th>\n",
              "      <th>hrwage</th>\n",
              "    </tr>\n",
              "  </thead>\n",
              "  <tbody>\n",
              "    <tr>\n",
              "      <th>0</th>\n",
              "      <td>0</td>\n",
              "      <td>20134147</td>\n",
              "      <td>2014</td>\n",
              "      <td>1</td>\n",
              "      <td>730568.0</td>\n",
              "      <td>23.0</td>\n",
              "      <td>0.704</td>\n",
              "      <td>22</td>\n",
              "      <td>31</td>\n",
              "      <td>0</td>\n",
              "      <td>...</td>\n",
              "      <td>0</td>\n",
              "      <td>0</td>\n",
              "      <td>1</td>\n",
              "      <td>0</td>\n",
              "      <td>0</td>\n",
              "      <td>0</td>\n",
              "      <td>0</td>\n",
              "      <td>52.0</td>\n",
              "      <td>2080.0</td>\n",
              "      <td>9.134615</td>\n",
              "    </tr>\n",
              "    <tr>\n",
              "      <th>1</th>\n",
              "      <td>1</td>\n",
              "      <td>20134148</td>\n",
              "      <td>2014</td>\n",
              "      <td>1</td>\n",
              "      <td>730568.0</td>\n",
              "      <td>23.0</td>\n",
              "      <td>0.704</td>\n",
              "      <td>22</td>\n",
              "      <td>31</td>\n",
              "      <td>0</td>\n",
              "      <td>...</td>\n",
              "      <td>0</td>\n",
              "      <td>0</td>\n",
              "      <td>0</td>\n",
              "      <td>0</td>\n",
              "      <td>0</td>\n",
              "      <td>0</td>\n",
              "      <td>0</td>\n",
              "      <td>52.0</td>\n",
              "      <td>2080.0</td>\n",
              "      <td>12.019231</td>\n",
              "    </tr>\n",
              "    <tr>\n",
              "      <th>2</th>\n",
              "      <td>2</td>\n",
              "      <td>20134149</td>\n",
              "      <td>2014</td>\n",
              "      <td>1</td>\n",
              "      <td>730569.0</td>\n",
              "      <td>43.0</td>\n",
              "      <td>0.704</td>\n",
              "      <td>22</td>\n",
              "      <td>31</td>\n",
              "      <td>0</td>\n",
              "      <td>...</td>\n",
              "      <td>0</td>\n",
              "      <td>0</td>\n",
              "      <td>0</td>\n",
              "      <td>0</td>\n",
              "      <td>0</td>\n",
              "      <td>0</td>\n",
              "      <td>0</td>\n",
              "      <td>NaN</td>\n",
              "      <td>NaN</td>\n",
              "      <td>NaN</td>\n",
              "    </tr>\n",
              "    <tr>\n",
              "      <th>3</th>\n",
              "      <td>3</td>\n",
              "      <td>20134151</td>\n",
              "      <td>2014</td>\n",
              "      <td>1</td>\n",
              "      <td>730571.0</td>\n",
              "      <td>110.0</td>\n",
              "      <td>0.704</td>\n",
              "      <td>22</td>\n",
              "      <td>31</td>\n",
              "      <td>0</td>\n",
              "      <td>...</td>\n",
              "      <td>0</td>\n",
              "      <td>0</td>\n",
              "      <td>1</td>\n",
              "      <td>0</td>\n",
              "      <td>0</td>\n",
              "      <td>0</td>\n",
              "      <td>0</td>\n",
              "      <td>52.0</td>\n",
              "      <td>2080.0</td>\n",
              "      <td>19.230769</td>\n",
              "    </tr>\n",
              "    <tr>\n",
              "      <th>4</th>\n",
              "      <td>4</td>\n",
              "      <td>20134152</td>\n",
              "      <td>2014</td>\n",
              "      <td>1</td>\n",
              "      <td>730571.0</td>\n",
              "      <td>110.0</td>\n",
              "      <td>0.704</td>\n",
              "      <td>22</td>\n",
              "      <td>31</td>\n",
              "      <td>0</td>\n",
              "      <td>...</td>\n",
              "      <td>0</td>\n",
              "      <td>0</td>\n",
              "      <td>0</td>\n",
              "      <td>0</td>\n",
              "      <td>0</td>\n",
              "      <td>0</td>\n",
              "      <td>0</td>\n",
              "      <td>52.0</td>\n",
              "      <td>2080.0</td>\n",
              "      <td>15.384615</td>\n",
              "    </tr>\n",
              "  </tbody>\n",
              "</table>\n",
              "<p>5 rows × 95 columns</p>\n",
              "</div>\n",
              "    <div class=\"colab-df-buttons\">\n",
              "\n",
              "  <div class=\"colab-df-container\">\n",
              "    <button class=\"colab-df-convert\" onclick=\"convertToInteractive('df-63028b87-67bf-453b-b147-fc1d70b42341')\"\n",
              "            title=\"Convert this dataframe to an interactive table.\"\n",
              "            style=\"display:none;\">\n",
              "\n",
              "  <svg xmlns=\"http://www.w3.org/2000/svg\" height=\"24px\" viewBox=\"0 -960 960 960\">\n",
              "    <path d=\"M120-120v-720h720v720H120Zm60-500h600v-160H180v160Zm220 220h160v-160H400v160Zm0 220h160v-160H400v160ZM180-400h160v-160H180v160Zm440 0h160v-160H620v160ZM180-180h160v-160H180v160Zm440 0h160v-160H620v160Z\"/>\n",
              "  </svg>\n",
              "    </button>\n",
              "\n",
              "  <style>\n",
              "    .colab-df-container {\n",
              "      display:flex;\n",
              "      gap: 12px;\n",
              "    }\n",
              "\n",
              "    .colab-df-convert {\n",
              "      background-color: #E8F0FE;\n",
              "      border: none;\n",
              "      border-radius: 50%;\n",
              "      cursor: pointer;\n",
              "      display: none;\n",
              "      fill: #1967D2;\n",
              "      height: 32px;\n",
              "      padding: 0 0 0 0;\n",
              "      width: 32px;\n",
              "    }\n",
              "\n",
              "    .colab-df-convert:hover {\n",
              "      background-color: #E2EBFA;\n",
              "      box-shadow: 0px 1px 2px rgba(60, 64, 67, 0.3), 0px 1px 3px 1px rgba(60, 64, 67, 0.15);\n",
              "      fill: #174EA6;\n",
              "    }\n",
              "\n",
              "    .colab-df-buttons div {\n",
              "      margin-bottom: 4px;\n",
              "    }\n",
              "\n",
              "    [theme=dark] .colab-df-convert {\n",
              "      background-color: #3B4455;\n",
              "      fill: #D2E3FC;\n",
              "    }\n",
              "\n",
              "    [theme=dark] .colab-df-convert:hover {\n",
              "      background-color: #434B5C;\n",
              "      box-shadow: 0px 1px 3px 1px rgba(0, 0, 0, 0.15);\n",
              "      filter: drop-shadow(0px 1px 2px rgba(0, 0, 0, 0.3));\n",
              "      fill: #FFFFFF;\n",
              "    }\n",
              "  </style>\n",
              "\n",
              "    <script>\n",
              "      const buttonEl =\n",
              "        document.querySelector('#df-63028b87-67bf-453b-b147-fc1d70b42341 button.colab-df-convert');\n",
              "      buttonEl.style.display =\n",
              "        google.colab.kernel.accessAllowed ? 'block' : 'none';\n",
              "\n",
              "      async function convertToInteractive(key) {\n",
              "        const element = document.querySelector('#df-63028b87-67bf-453b-b147-fc1d70b42341');\n",
              "        const dataTable =\n",
              "          await google.colab.kernel.invokeFunction('convertToInteractive',\n",
              "                                                    [key], {});\n",
              "        if (!dataTable) return;\n",
              "\n",
              "        const docLinkHtml = 'Like what you see? Visit the ' +\n",
              "          '<a target=\"_blank\" href=https://colab.research.google.com/notebooks/data_table.ipynb>data table notebook</a>'\n",
              "          + ' to learn more about interactive tables.';\n",
              "        element.innerHTML = '';\n",
              "        dataTable['output_type'] = 'display_data';\n",
              "        await google.colab.output.renderOutput(dataTable, element);\n",
              "        const docLink = document.createElement('div');\n",
              "        docLink.innerHTML = docLinkHtml;\n",
              "        element.appendChild(docLink);\n",
              "      }\n",
              "    </script>\n",
              "  </div>\n",
              "\n",
              "\n",
              "<div id=\"df-fe976f5e-ea4d-42c9-85be-25959e8bd7aa\">\n",
              "  <button class=\"colab-df-quickchart\" onclick=\"quickchart('df-fe976f5e-ea4d-42c9-85be-25959e8bd7aa')\"\n",
              "            title=\"Suggest charts\"\n",
              "            style=\"display:none;\">\n",
              "\n",
              "<svg xmlns=\"http://www.w3.org/2000/svg\" height=\"24px\"viewBox=\"0 0 24 24\"\n",
              "     width=\"24px\">\n",
              "    <g>\n",
              "        <path d=\"M19 3H5c-1.1 0-2 .9-2 2v14c0 1.1.9 2 2 2h14c1.1 0 2-.9 2-2V5c0-1.1-.9-2-2-2zM9 17H7v-7h2v7zm4 0h-2V7h2v10zm4 0h-2v-4h2v4z\"/>\n",
              "    </g>\n",
              "</svg>\n",
              "  </button>\n",
              "\n",
              "<style>\n",
              "  .colab-df-quickchart {\n",
              "      --bg-color: #E8F0FE;\n",
              "      --fill-color: #1967D2;\n",
              "      --hover-bg-color: #E2EBFA;\n",
              "      --hover-fill-color: #174EA6;\n",
              "      --disabled-fill-color: #AAA;\n",
              "      --disabled-bg-color: #DDD;\n",
              "  }\n",
              "\n",
              "  [theme=dark] .colab-df-quickchart {\n",
              "      --bg-color: #3B4455;\n",
              "      --fill-color: #D2E3FC;\n",
              "      --hover-bg-color: #434B5C;\n",
              "      --hover-fill-color: #FFFFFF;\n",
              "      --disabled-bg-color: #3B4455;\n",
              "      --disabled-fill-color: #666;\n",
              "  }\n",
              "\n",
              "  .colab-df-quickchart {\n",
              "    background-color: var(--bg-color);\n",
              "    border: none;\n",
              "    border-radius: 50%;\n",
              "    cursor: pointer;\n",
              "    display: none;\n",
              "    fill: var(--fill-color);\n",
              "    height: 32px;\n",
              "    padding: 0;\n",
              "    width: 32px;\n",
              "  }\n",
              "\n",
              "  .colab-df-quickchart:hover {\n",
              "    background-color: var(--hover-bg-color);\n",
              "    box-shadow: 0 1px 2px rgba(60, 64, 67, 0.3), 0 1px 3px 1px rgba(60, 64, 67, 0.15);\n",
              "    fill: var(--button-hover-fill-color);\n",
              "  }\n",
              "\n",
              "  .colab-df-quickchart-complete:disabled,\n",
              "  .colab-df-quickchart-complete:disabled:hover {\n",
              "    background-color: var(--disabled-bg-color);\n",
              "    fill: var(--disabled-fill-color);\n",
              "    box-shadow: none;\n",
              "  }\n",
              "\n",
              "  .colab-df-spinner {\n",
              "    border: 2px solid var(--fill-color);\n",
              "    border-color: transparent;\n",
              "    border-bottom-color: var(--fill-color);\n",
              "    animation:\n",
              "      spin 1s steps(1) infinite;\n",
              "  }\n",
              "\n",
              "  @keyframes spin {\n",
              "    0% {\n",
              "      border-color: transparent;\n",
              "      border-bottom-color: var(--fill-color);\n",
              "      border-left-color: var(--fill-color);\n",
              "    }\n",
              "    20% {\n",
              "      border-color: transparent;\n",
              "      border-left-color: var(--fill-color);\n",
              "      border-top-color: var(--fill-color);\n",
              "    }\n",
              "    30% {\n",
              "      border-color: transparent;\n",
              "      border-left-color: var(--fill-color);\n",
              "      border-top-color: var(--fill-color);\n",
              "      border-right-color: var(--fill-color);\n",
              "    }\n",
              "    40% {\n",
              "      border-color: transparent;\n",
              "      border-right-color: var(--fill-color);\n",
              "      border-top-color: var(--fill-color);\n",
              "    }\n",
              "    60% {\n",
              "      border-color: transparent;\n",
              "      border-right-color: var(--fill-color);\n",
              "    }\n",
              "    80% {\n",
              "      border-color: transparent;\n",
              "      border-right-color: var(--fill-color);\n",
              "      border-bottom-color: var(--fill-color);\n",
              "    }\n",
              "    90% {\n",
              "      border-color: transparent;\n",
              "      border-bottom-color: var(--fill-color);\n",
              "    }\n",
              "  }\n",
              "</style>\n",
              "\n",
              "  <script>\n",
              "    async function quickchart(key) {\n",
              "      const quickchartButtonEl =\n",
              "        document.querySelector('#' + key + ' button');\n",
              "      quickchartButtonEl.disabled = true;  // To prevent multiple clicks.\n",
              "      quickchartButtonEl.classList.add('colab-df-spinner');\n",
              "      try {\n",
              "        const charts = await google.colab.kernel.invokeFunction(\n",
              "            'suggestCharts', [key], {});\n",
              "      } catch (error) {\n",
              "        console.error('Error during call to suggestCharts:', error);\n",
              "      }\n",
              "      quickchartButtonEl.classList.remove('colab-df-spinner');\n",
              "      quickchartButtonEl.classList.add('colab-df-quickchart-complete');\n",
              "    }\n",
              "    (() => {\n",
              "      let quickchartButtonEl =\n",
              "        document.querySelector('#df-fe976f5e-ea4d-42c9-85be-25959e8bd7aa button');\n",
              "      quickchartButtonEl.style.display =\n",
              "        google.colab.kernel.accessAllowed ? 'block' : 'none';\n",
              "    })();\n",
              "  </script>\n",
              "</div>\n",
              "\n",
              "    </div>\n",
              "  </div>\n"
            ],
            "application/vnd.google.colaboratory.intrinsic+json": {
              "type": "dataframe",
              "variable_name": "data"
            }
          },
          "metadata": {},
          "execution_count": 2
        }
      ],
      "source": [
        "import statsmodels.formula.api as smf\n",
        "import pandas as pd, numpy as np\n",
        "\n",
        "data = pd.read_csv(\"https://github.com/dustywhite7/Econ8320/blob/master/AssignmentData/assignment8Data.csv?raw=true\")\n",
        "\n"
      ]
    },
    {
      "cell_type": "code",
      "source": [
        "  reg = smf.ols(\"hhincome ~ educ\", data=data).fit()\n",
        "  print(reg.summary())"
      ],
      "metadata": {
        "colab": {
          "base_uri": "https://localhost:8080/"
        },
        "id": "n55Svi1dxd2V",
        "outputId": "755c80b5-4ede-4e73-ff03-4caf82da431b"
      },
      "execution_count": 3,
      "outputs": [
        {
          "output_type": "stream",
          "name": "stdout",
          "text": [
            "                            OLS Regression Results                            \n",
            "==============================================================================\n",
            "Dep. Variable:               hhincome   R-squared:                       0.094\n",
            "Model:                            OLS   Adj. R-squared:                  0.094\n",
            "Method:                 Least Squares   F-statistic:                     1416.\n",
            "Date:                Tue, 22 Apr 2025   Prob (F-statistic):          6.14e-295\n",
            "Time:                        23:14:16   Log-Likelihood:            -1.7063e+05\n",
            "No. Observations:               13712   AIC:                         3.413e+05\n",
            "Df Residuals:                   13710   BIC:                         3.413e+05\n",
            "Df Model:                           1                                         \n",
            "Covariance Type:            nonrobust                                         \n",
            "==============================================================================\n",
            "                 coef    std err          t      P>|t|      [0.025      0.975]\n",
            "------------------------------------------------------------------------------\n",
            "Intercept   5784.6063   1944.649      2.975      0.003    1972.829    9596.384\n",
            "educ        9555.3466    253.957     37.626      0.000    9057.557    1.01e+04\n",
            "==============================================================================\n",
            "Omnibus:                    10055.601   Durbin-Watson:                   1.079\n",
            "Prob(Omnibus):                  0.000   Jarque-Bera (JB):           306163.931\n",
            "Skew:                           3.197   Prob(JB):                         0.00\n",
            "Kurtosis:                      25.249   Cond. No.                         28.8\n",
            "==============================================================================\n",
            "\n",
            "Notes:\n",
            "[1] Standard Errors assume that the covariance matrix of the errors is correctly specified.\n"
          ]
        }
      ]
    },
    {
      "cell_type": "code",
      "source": [
        "import statsmodels.formula.api as smf\n",
        "import numpy as np\n",
        "\n",
        "reg = smf.ols(\"np.log(hhincome + 1) ~ educ\", data=data).fit()\n",
        "print(reg.summary())"
      ],
      "metadata": {
        "colab": {
          "base_uri": "https://localhost:8080/"
        },
        "id": "oCU-SKXOyc1J",
        "outputId": "27c51fb5-821d-40e4-daff-e6ebb1315187"
      },
      "execution_count": 14,
      "outputs": [
        {
          "output_type": "stream",
          "name": "stdout",
          "text": [
            "                             OLS Regression Results                             \n",
            "================================================================================\n",
            "Dep. Variable:     np.log(hhincome + 1)   R-squared:                       0.066\n",
            "Model:                              OLS   Adj. R-squared:                  0.066\n",
            "Method:                   Least Squares   F-statistic:                     973.3\n",
            "Date:                  Tue, 22 Apr 2025   Prob (F-statistic):          1.72e-206\n",
            "Time:                          23:22:42   Log-Likelihood:                -20022.\n",
            "No. Observations:                 13702   AIC:                         4.005e+04\n",
            "Df Residuals:                     13700   BIC:                         4.006e+04\n",
            "Df Model:                             1                                         \n",
            "Covariance Type:              nonrobust                                         \n",
            "==============================================================================\n",
            "                 coef    std err          t      P>|t|      [0.025      0.975]\n",
            "------------------------------------------------------------------------------\n",
            "Intercept      9.9097      0.033    299.800      0.000       9.845       9.974\n",
            "educ           0.1347      0.004     31.198      0.000       0.126       0.143\n",
            "==============================================================================\n",
            "Omnibus:                    13511.631   Durbin-Watson:                   1.415\n",
            "Prob(Omnibus):                  0.000   Jarque-Bera (JB):          1137540.473\n",
            "Skew:                          -4.679   Prob(JB):                         0.00\n",
            "Kurtosis:                      46.645   Cond. No.                         28.8\n",
            "==============================================================================\n",
            "\n",
            "Notes:\n",
            "[1] Standard Errors assume that the covariance matrix of the errors is correctly specified.\n"
          ]
        },
        {
          "output_type": "stream",
          "name": "stderr",
          "text": [
            "/usr/local/lib/python3.11/dist-packages/pandas/core/arraylike.py:399: RuntimeWarning: invalid value encountered in log\n",
            "  result = getattr(ufunc, method)(*inputs, **kwargs)\n",
            "/usr/local/lib/python3.11/dist-packages/pandas/core/arraylike.py:399: RuntimeWarning: invalid value encountered in log\n",
            "  result = getattr(ufunc, method)(*inputs, **kwargs)\n"
          ]
        }
      ]
    },
    {
      "cell_type": "code",
      "source": [
        "reg = smf.ols(\"np.log(hhincome + 1) ~ educ + age + I(age**2) + female + married + C(race)\", data=data).fit()\n",
        "print(reg.summary())"
      ],
      "metadata": {
        "colab": {
          "base_uri": "https://localhost:8080/"
        },
        "id": "FptnBezY0OhZ",
        "outputId": "cd25d14d-7c13-4ba3-c271-c418dd95de09"
      },
      "execution_count": 15,
      "outputs": [
        {
          "output_type": "stream",
          "name": "stdout",
          "text": [
            "                             OLS Regression Results                             \n",
            "================================================================================\n",
            "Dep. Variable:     np.log(hhincome + 1)   R-squared:                       0.152\n",
            "Model:                              OLS   Adj. R-squared:                  0.152\n",
            "Method:                   Least Squares   F-statistic:                     189.3\n",
            "Date:                  Tue, 22 Apr 2025   Prob (F-statistic):               0.00\n",
            "Time:                          23:25:13   Log-Likelihood:                -19360.\n",
            "No. Observations:                 13702   AIC:                         3.875e+04\n",
            "Df Residuals:                     13688   BIC:                         3.885e+04\n",
            "Df Model:                            13                                         \n",
            "Covariance Type:              nonrobust                                         \n",
            "================================================================================\n",
            "                   coef    std err          t      P>|t|      [0.025      0.975]\n",
            "--------------------------------------------------------------------------------\n",
            "Intercept        9.7260      0.067    145.055      0.000       9.595       9.857\n",
            "C(race)[T.2]    -0.4101      0.055     -7.426      0.000      -0.518      -0.302\n",
            "C(race)[T.3]    -0.3627      0.081     -4.480      0.000      -0.521      -0.204\n",
            "C(race)[T.4]     0.4302      0.179      2.402      0.016       0.079       0.781\n",
            "C(race)[T.5]    -0.2639      0.376     -0.702      0.483      -1.001       0.473\n",
            "C(race)[T.6]    -0.1295      0.082     -1.572      0.116      -0.291       0.032\n",
            "C(race)[T.7]    -0.1761      0.091     -1.935      0.053      -0.354       0.002\n",
            "C(race)[T.8]    -0.4351      0.084     -5.155      0.000      -0.601      -0.270\n",
            "C(race)[T.9]    -0.1287      0.241     -0.533      0.594      -0.602       0.345\n",
            "educ             0.1028      0.004     24.134      0.000       0.094       0.111\n",
            "age              0.0170      0.003      6.415      0.000       0.012       0.022\n",
            "I(age ** 2)     -0.0002   2.52e-05     -9.516      0.000      -0.000      -0.000\n",
            "female          -0.0999      0.017     -5.856      0.000      -0.133      -0.066\n",
            "married          0.5067      0.019     26.387      0.000       0.469       0.544\n",
            "==============================================================================\n",
            "Omnibus:                    14055.126   Durbin-Watson:                   1.396\n",
            "Prob(Omnibus):                  0.000   Jarque-Bera (JB):          1408799.868\n",
            "Skew:                          -4.942   Prob(JB):                         0.00\n",
            "Kurtosis:                      51.682   Cond. No.                     1.54e+05\n",
            "==============================================================================\n",
            "\n",
            "Notes:\n",
            "[1] Standard Errors assume that the covariance matrix of the errors is correctly specified.\n",
            "[2] The condition number is large, 1.54e+05. This might indicate that there are\n",
            "strong multicollinearity or other numerical problems.\n"
          ]
        },
        {
          "output_type": "stream",
          "name": "stderr",
          "text": [
            "/usr/local/lib/python3.11/dist-packages/pandas/core/arraylike.py:399: RuntimeWarning: invalid value encountered in log\n",
            "  result = getattr(ufunc, method)(*inputs, **kwargs)\n",
            "/usr/local/lib/python3.11/dist-packages/pandas/core/arraylike.py:399: RuntimeWarning: invalid value encountered in log\n",
            "  result = getattr(ufunc, method)(*inputs, **kwargs)\n"
          ]
        }
      ]
    },
    {
      "cell_type": "markdown",
      "metadata": {
        "id": "gMey_yWGv6HA"
      },
      "source": [
        "Assuming that our data set has already been cleaned. If our data has not yet been cleaned, then we need to clean our data prior to working with either `statsmodels` or `sklearn`. This is because regression AND machine learning models require that all information be provided in numeric format. We need to transform text-based data into categorical data (using either ordered numeric columns or binary variable columns generated from our categories), and ensure that all data is represented in the way that we want to use it within our model."
      ]
    },
    {
      "cell_type": "markdown",
      "metadata": {
        "id": "rcFoZqrZv6HB"
      },
      "source": [
        "### Regression Equations\n",
        "\n",
        "`statsmodels` incorporates `R`-style regression equations by using the `patsy` library behind the scenes. We will talk more about `patsy` soon. The pattern for regression equations is as follows:\n",
        "\n",
        "```\"dependent variable ~ independent variable + another independent variable + any other independent variables\"```\n",
        "\n",
        "The regression equation will be stored in a string (unlike in `R`), and we put our dependent variable (also called the endogenous variable, or outcome of interest) in the leftmost position within the string. We separate the dependent variable from all independent (exogenous or explanatory) variables using the `~` symbol. Then, each independent variable is separated from the others using `+` operators.\n",
        "\n",
        "The reason is is so important that our column names be properly cleaned before implementing regression analysis is that spaces and other problematic formats for column names will cause problems with our regression equations.\n",
        "\n",
        "### Implementing a Model\n",
        "\n",
        "The first model we might try is a simple linear regression. These are the most common regression models, and typically what someone is referring to when they discuss \"running a regression\". The code is wonderfully simple:"
      ]
    },
    {
      "cell_type": "code",
      "execution_count": null,
      "metadata": {
        "id": "TEjI1cfQv6HB"
      },
      "outputs": [],
      "source": [
        "reg = smf.ols(\"hhincome ~ year\", data=data).fit()\n",
        "print(reg.summary())"
      ]
    },
    {
      "cell_type": "markdown",
      "metadata": {
        "id": "0skw_hr1v6HB"
      },
      "source": [
        "                                OLS Regression Results                            \n",
        "    ==============================================================================\n",
        "    Dep. Variable:               hhincome   R-squared:                      -0.000\n",
        "    Model:                            OLS   Adj. R-squared:                 -0.000\n",
        "    Method:                 Least Squares   F-statistic:                      -inf\n",
        "    Date:                Wed, 16 Mar 2022   Prob (F-statistic):                nan\n",
        "    Time:                        15:24:28   Log-Likelihood:            -1.7131e+05\n",
        "    No. Observations:               13712   AIC:                         3.426e+05\n",
        "    Df Residuals:                   13711   BIC:                         3.426e+05\n",
        "    Df Model:                           0                                         \n",
        "    Covariance Type:            nonrobust                                         \n",
        "    ==============================================================================\n",
        "                     coef    std err          t      P>|t|      [0.025      0.975]\n",
        "    ------------------------------------------------------------------------------\n",
        "    Intercept      0.0188      0.000    138.414      0.000       0.019       0.019\n",
        "    year          37.8564      0.274    138.414      0.000      37.320      38.392\n",
        "    ==============================================================================\n",
        "    Omnibus:                     9819.620   Durbin-Watson:                   1.027\n",
        "    Prob(Omnibus):                  0.000   Jarque-Bera (JB):           250725.793\n",
        "    Skew:                           3.151   Prob(JB):                         0.00\n",
        "    Kurtosis:                      22.978   Cond. No.                     9.31e+17\n",
        "    ==============================================================================\n",
        "    \n",
        "    Warnings:\n",
        "    [1] Standard Errors assume that the covariance matrix of the errors is correctly specified.\n",
        "    [2] The smallest eigenvalue is 6.41e-26. This might indicate that there are\n",
        "    strong multicollinearity problems or that the design matrix is singular.\n",
        "\n",
        "\n",
        "    /opt/conda/lib/python3.7/site-packages/statsmodels/regression/linear_model.py:1657: RuntimeWarning: divide by zero encountered in double_scalars\n",
        "      return self.ess/self.df_model\n",
        "\n",
        "\n",
        "When we run these two lines of code, we are creating, fitting, and reporting on a regression model! It's fast, it's clean, and it's really easy to implement! `sm.ols` is the OLS class of regression models, and takes two required arguments: a regression equation (passed as a string), and a data source (expected to be a `pandas.DataFrame` object). We use the `.fit()` method to complete all of the math that actually solves our regression model. When we call `.summary()` on a fitted regression, we get a printout of the regression summary tables for the model, complete with diagnostic measures, estimates of our beta coefficients, and confidence intervals!\n",
        "\n",
        "If the model is satisfactory, then we are done! (It really is that simple!)"
      ]
    },
    {
      "cell_type": "markdown",
      "metadata": {
        "id": "887JUdhJv6HB"
      },
      "source": [
        "If I want to keep iterating on my model, I might want to try regressing year on the logged average household incomes:"
      ]
    },
    {
      "cell_type": "code",
      "execution_count": 11,
      "metadata": {
        "colab": {
          "base_uri": "https://localhost:8080/"
        },
        "id": "mepcXa4Ov6HC",
        "outputId": "6b67cbb4-7c28-4d5b-9ef5-f71b56a33e8a"
      },
      "outputs": [
        {
          "output_type": "stream",
          "name": "stdout",
          "text": [
            "                            OLS Regression Results                            \n",
            "==============================================================================\n",
            "Dep. Variable:       np.log(hhincome)   R-squared:                      -0.000\n",
            "Model:                            OLS   Adj. R-squared:                 -0.000\n",
            "Method:                 Least Squares   F-statistic:                       nan\n",
            "Date:                Tue, 22 Apr 2025   Prob (F-statistic):                nan\n",
            "Time:                        23:21:11   Log-Likelihood:                -17363.\n",
            "No. Observations:               13653   AIC:                         3.473e+04\n",
            "Df Residuals:                   13652   BIC:                         3.474e+04\n",
            "Df Model:                           0                                         \n",
            "Covariance Type:            nonrobust                                         \n",
            "==============================================================================\n",
            "                 coef    std err          t      P>|t|      [0.025      0.975]\n",
            "------------------------------------------------------------------------------\n",
            "Intercept   2.698e-06   1.82e-09   1481.190      0.000    2.69e-06     2.7e-06\n",
            "year           0.0054   3.67e-06   1481.190      0.000       0.005       0.005\n",
            "==============================================================================\n",
            "Omnibus:                     5172.537   Durbin-Watson:                   1.277\n",
            "Prob(Omnibus):                  0.000   Jarque-Bera (JB):            63678.616\n",
            "Skew:                          -1.469   Prob(JB):                         0.00\n",
            "Kurtosis:                      13.164   Cond. No.                     8.12e+17\n",
            "==============================================================================\n",
            "\n",
            "Notes:\n",
            "[1] Standard Errors assume that the covariance matrix of the errors is correctly specified.\n",
            "[2] The smallest eigenvalue is 8.4e-26. This might indicate that there are\n",
            "strong multicollinearity problems or that the design matrix is singular.\n"
          ]
        }
      ],
      "source": [
        "reg = smf.ols(\"np.log(hhincome) ~ year\", data=data[data['hhincome']>0]).fit()\n",
        "print(reg.summary())"
      ]
    },
    {
      "cell_type": "markdown",
      "metadata": {
        "id": "j2c4IAtPv6HC"
      },
      "source": [
        "                                OLS Regression Results                            \n",
        "    ==============================================================================\n",
        "    Dep. Variable:       np.log(hhincome)   R-squared:                      -0.000\n",
        "    Model:                            OLS   Adj. R-squared:                 -0.000\n",
        "    Method:                 Least Squares   F-statistic:                      -inf\n",
        "    Date:                Wed, 16 Mar 2022   Prob (F-statistic):                nan\n",
        "    Time:                        15:31:18   Log-Likelihood:                -17363.\n",
        "    No. Observations:               13653   AIC:                         3.473e+04\n",
        "    Df Residuals:                   13652   BIC:                         3.474e+04\n",
        "    Df Model:                           0                                         \n",
        "    Covariance Type:            nonrobust                                         \n",
        "    ==============================================================================\n",
        "                     coef    std err          t      P>|t|      [0.025      0.975]\n",
        "    ------------------------------------------------------------------------------\n",
        "    Intercept   2.698e-06   1.82e-09   1481.190      0.000    2.69e-06     2.7e-06\n",
        "    year           0.0054   3.67e-06   1481.190      0.000       0.005       0.005\n",
        "    ==============================================================================\n",
        "    Omnibus:                     5172.537   Durbin-Watson:                   1.277\n",
        "    Prob(Omnibus):                  0.000   Jarque-Bera (JB):            63678.616\n",
        "    Skew:                          -1.469   Prob(JB):                         0.00\n",
        "    Kurtosis:                      13.164   Cond. No.                     8.12e+17\n",
        "    ==============================================================================\n",
        "    \n",
        "    Warnings:\n",
        "    [1] Standard Errors assume that the covariance matrix of the errors is correctly specified.\n",
        "    [2] The smallest eigenvalue is 8.4e-26. This might indicate that there are\n",
        "    strong multicollinearity problems or that the design matrix is singular.\n",
        "\n",
        "\n",
        "    /opt/conda/lib/python3.7/site-packages/statsmodels/regression/linear_model.py:1657: RuntimeWarning: divide by zero encountered in double_scalars\n",
        "      return self.ess/self.df_model\n",
        "\n",
        "\n",
        "As you can see from the code above, everything is the same, except that we were able to transform household income using `np.log` on the go! We don't even need to create a new column! We can just do it inside of our regression model! We also subset our data so that the log operator doesn't break our model by introducing $-\\infty$ as a possible `hhincome` value.\n",
        "\n",
        "In other cases, it might be useful to create state-level fixed effects by including dummy variables for the states in our `statefip` column. Note that this won't work with our current data, since we only have one state in our data set."
      ]
    },
    {
      "cell_type": "code",
      "execution_count": 20,
      "metadata": {
        "colab": {
          "base_uri": "https://localhost:8080/"
        },
        "id": "4TKvWxCgv6HC",
        "outputId": "3098a0aa-391f-4617-a4c4-81a6f8388954"
      },
      "outputs": [
        {
          "output_type": "stream",
          "name": "stdout",
          "text": [
            "                            OLS Regression Results                            \n",
            "==============================================================================\n",
            "Dep. Variable:       np.log(hhincome)   R-squared:                      -0.000\n",
            "Model:                            OLS   Adj. R-squared:                 -0.000\n",
            "Method:                 Least Squares   F-statistic:                       nan\n",
            "Date:                Tue, 22 Apr 2025   Prob (F-statistic):                nan\n",
            "Time:                        23:33:57   Log-Likelihood:                -17363.\n",
            "No. Observations:               13653   AIC:                         3.473e+04\n",
            "Df Residuals:                   13652   BIC:                         3.474e+04\n",
            "Df Model:                           0                                         \n",
            "Covariance Type:            nonrobust                                         \n",
            "==============================================================================\n",
            "                 coef    std err          t      P>|t|      [0.025      0.975]\n",
            "------------------------------------------------------------------------------\n",
            "Intercept   2.698e-06   1.82e-09   1481.190      0.000    2.69e-06     2.7e-06\n",
            "year           0.0054   3.67e-06   1481.190      0.000       0.005       0.005\n",
            "==============================================================================\n",
            "Omnibus:                     5172.537   Durbin-Watson:                   1.277\n",
            "Prob(Omnibus):                  0.000   Jarque-Bera (JB):            63678.616\n",
            "Skew:                          -1.469   Prob(JB):                         0.00\n",
            "Kurtosis:                      13.164   Cond. No.                     8.12e+17\n",
            "==============================================================================\n",
            "\n",
            "Notes:\n",
            "[1] Standard Errors assume that the covariance matrix of the errors is correctly specified.\n",
            "[2] The smallest eigenvalue is 8.4e-26. This might indicate that there are\n",
            "strong multicollinearity problems or that the design matrix is singular.\n"
          ]
        }
      ],
      "source": [
        "reg = smf.ols(\"np.log(hhincome) ~ year + C(statefip)\", data=data[data['hhincome']>0]).fit()\n",
        "print(reg.summary())"
      ]
    },
    {
      "cell_type": "markdown",
      "metadata": {
        "id": "30jGSGF4v6HD"
      },
      "source": [
        "                                OLS Regression Results                            \n",
        "    ==============================================================================\n",
        "    Dep. Variable:       np.log(hhincome)   R-squared:                      -0.000\n",
        "    Model:                            OLS   Adj. R-squared:                 -0.000\n",
        "    Method:                 Least Squares   F-statistic:                      -inf\n",
        "    Date:                Wed, 16 Mar 2022   Prob (F-statistic):                nan\n",
        "    Time:                        15:32:19   Log-Likelihood:                -17363.\n",
        "    No. Observations:               13653   AIC:                         3.473e+04\n",
        "    Df Residuals:                   13652   BIC:                         3.474e+04\n",
        "    Df Model:                           0                                         \n",
        "    Covariance Type:            nonrobust                                         \n",
        "    ==============================================================================\n",
        "                     coef    std err          t      P>|t|      [0.025      0.975]\n",
        "    ------------------------------------------------------------------------------\n",
        "    Intercept   2.698e-06   1.82e-09   1481.190      0.000    2.69e-06     2.7e-06\n",
        "    year           0.0054   3.67e-06   1481.190      0.000       0.005       0.005\n",
        "    ==============================================================================\n",
        "    Omnibus:                     5172.537   Durbin-Watson:                   1.277\n",
        "    Prob(Omnibus):                  0.000   Jarque-Bera (JB):            63678.616\n",
        "    Skew:                          -1.469   Prob(JB):                         0.00\n",
        "    Kurtosis:                      13.164   Cond. No.                     8.12e+17\n",
        "    ==============================================================================\n",
        "    \n",
        "    Warnings:\n",
        "    [1] Standard Errors assume that the covariance matrix of the errors is correctly specified.\n",
        "    [2] The smallest eigenvalue is 8.4e-26. This might indicate that there are\n",
        "    strong multicollinearity problems or that the design matrix is singular.\n",
        "\n",
        "\n",
        "    /opt/conda/lib/python3.7/site-packages/statsmodels/regression/linear_model.py:1657: RuntimeWarning: divide by zero encountered in double_scalars\n",
        "      return self.ess/self.df_model\n",
        "\n",
        "\n",
        "The `C()` command indicates that we would like to consider the `statefip` variable as a **C**ategorical variable, not a numeric variable. We can transform ANY column using the categorical operator. It is most useful when a column is text-based, or when a column is numeric but should not be treated as a count, ordinal, or continuous variable. We CAN use it on our dependent variable, but this will (unless our dependent variable was binary text data) break our regression model, which expects only a single dependent variable, rather than an array of dependent variables.\n",
        "\n",
        "Sometimes we want to include transformed variables in our model without creating a new column. The `I()` operator allows us to do just that:"
      ]
    },
    {
      "cell_type": "code",
      "execution_count": null,
      "metadata": {
        "id": "WDZT0zTov6HD"
      },
      "outputs": [],
      "source": [
        "# Square a variable using the I() function for\n",
        "#   mathematical transformations\n",
        "reg = smf.ols(\"np.log(hhincome) ~ age + I(age**2)\", data=data).fit()"
      ]
    },
    {
      "cell_type": "markdown",
      "metadata": {
        "id": "VYx6Zd0Yv6HD"
      },
      "source": [
        "In this case, we transform `age` by squaring it (maybe in preparation to create an age-earnings profile?). One line, simple syntax, what could be better?"
      ]
    },
    {
      "cell_type": "code",
      "execution_count": 24,
      "metadata": {
        "colab": {
          "base_uri": "https://localhost:8080/"
        },
        "id": "VTkdJaViv6HD",
        "outputId": "bf43bd5c-dad1-4ff9-bd5e-6da0cdb81d87"
      },
      "outputs": [
        {
          "output_type": "stream",
          "name": "stdout",
          "text": [
            "                             OLS Regression Results                             \n",
            "================================================================================\n",
            "Dep. Variable:     np.log(hhincome + 1)   R-squared:                       0.020\n",
            "Model:                              OLS   Adj. R-squared:                  0.020\n",
            "Method:                   Least Squares   F-statistic:                     279.4\n",
            "Date:                  Tue, 22 Apr 2025   Prob (F-statistic):           4.27e-62\n",
            "Time:                          23:35:20   Log-Likelihood:                -20354.\n",
            "No. Observations:                 13702   AIC:                         4.071e+04\n",
            "Df Residuals:                     13700   BIC:                         4.073e+04\n",
            "Df Model:                             1                                         \n",
            "Covariance Type:              nonrobust                                         \n",
            "=====================================================================================\n",
            "                        coef    std err          t      P>|t|      [0.025      0.975]\n",
            "-------------------------------------------------------------------------------------\n",
            "Intercept            11.2148      0.021    539.568      0.000      11.174      11.256\n",
            "I(age - educ - 5)    -0.0082      0.000    -16.714      0.000      -0.009      -0.007\n",
            "==============================================================================\n",
            "Omnibus:                    12966.366   Durbin-Watson:                   1.381\n",
            "Prob(Omnibus):                  0.000   Jarque-Bera (JB):           965242.046\n",
            "Skew:                          -4.405   Prob(JB):                         0.00\n",
            "Kurtosis:                      43.163   Cond. No.                         97.1\n",
            "==============================================================================\n",
            "\n",
            "Notes:\n",
            "[1] Standard Errors assume that the covariance matrix of the errors is correctly specified.\n"
          ]
        },
        {
          "output_type": "stream",
          "name": "stderr",
          "text": [
            "/usr/local/lib/python3.11/dist-packages/pandas/core/arraylike.py:399: RuntimeWarning: invalid value encountered in log\n",
            "  result = getattr(ufunc, method)(*inputs, **kwargs)\n",
            "/usr/local/lib/python3.11/dist-packages/pandas/core/arraylike.py:399: RuntimeWarning: invalid value encountered in log\n",
            "  result = getattr(ufunc, method)(*inputs, **kwargs)\n"
          ]
        }
      ],
      "source": [
        "# Combine variables using the I() function for\n",
        "#   mathematical transformations\n",
        "reg = smf.ols(\"np.log(hhincome+1) ~ I(age-educ-5)\", data=data).fit()\n",
        "print(reg.summary())"
      ]
    },
    {
      "cell_type": "markdown",
      "metadata": {
        "id": "pzpGpNVOv6HD"
      },
      "source": [
        "This example combines TWO columns to create a new measure (proxying experience by subtracting education from age, and subtracting an additional 5 years). All we have to do is describe the relationship that we want to model as an explanatory variable, and we are off to the races! Most operators are fair game, and we can include an arbitrary number of columns in our measure calculation."
      ]
    },
    {
      "cell_type": "markdown",
      "metadata": {
        "id": "XZakOvt6v6HD"
      },
      "source": [
        "### More robust modeling\n",
        "\n",
        "If we want to utilize robust standard errors, we can easily update our regression results:"
      ]
    },
    {
      "cell_type": "code",
      "execution_count": null,
      "metadata": {
        "id": "o8VGQYo2v6HE"
      },
      "outputs": [],
      "source": [
        "reg = smf.ols(\"np.log(hhincome) ~ year + C(statefip)\", data=data).fit()\n",
        "# Use White's (1980) Standard Error\n",
        "reg.get_robustcov_results(cov_type='HC0')\n",
        "print(reg.summary())"
      ]
    },
    {
      "cell_type": "markdown",
      "metadata": {
        "id": "sFj-uD4Yv6HE"
      },
      "source": [
        "Or, if we want to cluster our standard errors by state,"
      ]
    },
    {
      "cell_type": "code",
      "execution_count": null,
      "metadata": {
        "id": "4Gn5iVL1v6HE"
      },
      "outputs": [],
      "source": [
        "reg = smf.ols(\"np.log(hhincome) ~ year + C(statefip)\", data=data).fit()\n",
        "# Use Cluster-robust Standard Errors\n",
        "reg.get_robustcov_results(cov_type='cluster', groups=data['statefip']) # Need to specify groups\n",
        "print(reg.summary())"
      ]
    },
    {
      "cell_type": "markdown",
      "metadata": {
        "id": "m6IJoZGfv6HE"
      },
      "source": [
        "We don't have to stick to just `HC0` and cluster-robust standard errors. Below are some of the [covariance options](http://www.statsmodels.org/dev/generated/statsmodels.regression.linear_model.RegressionResults.get_robustcov_results.html) that we have:\n",
        "1) `HC0`: White's (1980) Heteroskedasticity robust standard errors\n",
        "2) `HC1`, `HC2`, `HC3`: MacKinnon and White's (1985) alternative robust standard errors, with `HC3` being designed for improved performance in small samples\n",
        "3) `cluster`: Cluster robust standard errors\n",
        "4) `hac-panel`: Panel robust standard errors\n",
        "\n",
        "We should choose the standard errors that best fit our specific data needs, and it is important to realize that this choice is highly context-dependent. The structure and nature of our data should be carefully considered, as should the specific regression model that we are trying to implement.\n",
        "\n",
        "### Time Series Models\n",
        "\n",
        "Not only can we model linear regression, we also have multiple time series options available. We won't go into much detail, since each of these models deserve to have significant time devoted to them, and we just don't have the time in this class.\n",
        "\n",
        "- [ARIMA](http://www.statsmodels.org/dev/generated/statsmodels.tsa.arima_model.ARIMA.html) models\n",
        "- [VAR](http://www.statsmodels.org/dev/generated/statsmodels.tsa.vector_ar.var_model.VAR.html) models\n",
        "- [Exponential Smoothing](https://www.statsmodels.org/stable/tsa.html#exponential-smoothing) models\n",
        "\n",
        "We can run an ARIMA, for example, using code like the following example:"
      ]
    },
    {
      "cell_type": "code",
      "execution_count": 25,
      "metadata": {
        "colab": {
          "base_uri": "https://localhost:8080/",
          "height": 478
        },
        "id": "gcQ5E6VRv6HF",
        "outputId": "5d744b26-3152-4b61-bacc-c0008118a6f1"
      },
      "outputs": [
        {
          "output_type": "error",
          "ename": "NotImplementedError",
          "evalue": "\nstatsmodels.tsa.arima_model.ARMA and statsmodels.tsa.arima_model.ARIMA have\nbeen removed in favor of statsmodels.tsa.arima.model.ARIMA (note the .\nbetween arima and model) and statsmodels.tsa.SARIMAX.\n\nstatsmodels.tsa.arima.model.ARIMA makes use of the statespace framework and\nis both well tested and maintained. It also offers alternative specialized\nparameter estimators.\n",
          "traceback": [
            "\u001b[0;31m---------------------------------------------------------------------------\u001b[0m",
            "\u001b[0;31mNotImplementedError\u001b[0m                       Traceback (most recent call last)",
            "\u001b[0;32m<ipython-input-25-84f685894490>\u001b[0m in \u001b[0;36m<cell line: 0>\u001b[0;34m()\u001b[0m\n\u001b[1;32m      5\u001b[0m \u001b[0my\u001b[0m \u001b[0;34m=\u001b[0m \u001b[0mdata\u001b[0m\u001b[0;34m.\u001b[0m\u001b[0mloc\u001b[0m\u001b[0;34m[\u001b[0m\u001b[0mdata\u001b[0m\u001b[0;34m[\u001b[0m\u001b[0;34m'statefip'\u001b[0m\u001b[0;34m]\u001b[0m\u001b[0;34m==\u001b[0m\u001b[0;36m31\u001b[0m\u001b[0;34m,\u001b[0m \u001b[0;34m[\u001b[0m\u001b[0;34m'hhincome'\u001b[0m\u001b[0;34m,\u001b[0m\u001b[0;34m'year'\u001b[0m\u001b[0;34m]\u001b[0m\u001b[0;34m]\u001b[0m\u001b[0;34m\u001b[0m\u001b[0;34m\u001b[0m\u001b[0m\n\u001b[1;32m      6\u001b[0m \u001b[0my\u001b[0m\u001b[0;34m.\u001b[0m\u001b[0mindex\u001b[0m\u001b[0;34m=\u001b[0m\u001b[0mpd\u001b[0m\u001b[0;34m.\u001b[0m\u001b[0mto_datetime\u001b[0m\u001b[0;34m(\u001b[0m\u001b[0my\u001b[0m\u001b[0;34m.\u001b[0m\u001b[0myear\u001b[0m\u001b[0;34m)\u001b[0m\u001b[0;34m\u001b[0m\u001b[0;34m\u001b[0m\u001b[0m\n\u001b[0;32m----> 7\u001b[0;31m \u001b[0mreg\u001b[0m \u001b[0;34m=\u001b[0m \u001b[0mARIMA\u001b[0m\u001b[0;34m(\u001b[0m\u001b[0my\u001b[0m\u001b[0;34m[\u001b[0m\u001b[0;34m'hhincome'\u001b[0m\u001b[0;34m]\u001b[0m\u001b[0;34m,\u001b[0m \u001b[0morder\u001b[0m\u001b[0;34m=\u001b[0m\u001b[0;34m(\u001b[0m\u001b[0;36m1\u001b[0m\u001b[0;34m,\u001b[0m\u001b[0;36m1\u001b[0m\u001b[0;34m,\u001b[0m\u001b[0;36m0\u001b[0m\u001b[0;34m)\u001b[0m\u001b[0;34m)\u001b[0m\u001b[0;34m.\u001b[0m\u001b[0mfit\u001b[0m\u001b[0;34m(\u001b[0m\u001b[0;34m)\u001b[0m\u001b[0;34m\u001b[0m\u001b[0;34m\u001b[0m\u001b[0m\n\u001b[0m\u001b[1;32m      8\u001b[0m \u001b[0mprint\u001b[0m\u001b[0;34m(\u001b[0m\u001b[0mreg\u001b[0m\u001b[0;34m.\u001b[0m\u001b[0msummary\u001b[0m\u001b[0;34m(\u001b[0m\u001b[0;34m)\u001b[0m\u001b[0;34m)\u001b[0m\u001b[0;34m\u001b[0m\u001b[0;34m\u001b[0m\u001b[0m\n",
            "\u001b[0;32m/usr/local/lib/python3.11/dist-packages/statsmodels/tsa/arima_model.py\u001b[0m in \u001b[0;36m__init__\u001b[0;34m(self, *args, **kwargs)\u001b[0m\n\u001b[1;32m     43\u001b[0m \u001b[0;34m\u001b[0m\u001b[0m\n\u001b[1;32m     44\u001b[0m     \u001b[0;32mdef\u001b[0m \u001b[0m__init__\u001b[0m\u001b[0;34m(\u001b[0m\u001b[0mself\u001b[0m\u001b[0;34m,\u001b[0m \u001b[0;34m*\u001b[0m\u001b[0margs\u001b[0m\u001b[0;34m,\u001b[0m \u001b[0;34m**\u001b[0m\u001b[0mkwargs\u001b[0m\u001b[0;34m)\u001b[0m\u001b[0;34m:\u001b[0m\u001b[0;34m\u001b[0m\u001b[0;34m\u001b[0m\u001b[0m\n\u001b[0;32m---> 45\u001b[0;31m         \u001b[0msuper\u001b[0m\u001b[0;34m(\u001b[0m\u001b[0;34m)\u001b[0m\u001b[0;34m.\u001b[0m\u001b[0m__init__\u001b[0m\u001b[0;34m(\u001b[0m\u001b[0;34m*\u001b[0m\u001b[0margs\u001b[0m\u001b[0;34m,\u001b[0m \u001b[0;34m**\u001b[0m\u001b[0mkwargs\u001b[0m\u001b[0;34m)\u001b[0m\u001b[0;34m\u001b[0m\u001b[0;34m\u001b[0m\u001b[0m\n\u001b[0m\u001b[1;32m     46\u001b[0m \u001b[0;34m\u001b[0m\u001b[0m\n\u001b[1;32m     47\u001b[0m \u001b[0;34m\u001b[0m\u001b[0m\n",
            "\u001b[0;32m/usr/local/lib/python3.11/dist-packages/statsmodels/tsa/arima_model.py\u001b[0m in \u001b[0;36m__init__\u001b[0;34m(self, *args, **kwargs)\u001b[0m\n\u001b[1;32m     27\u001b[0m \u001b[0;34m\u001b[0m\u001b[0m\n\u001b[1;32m     28\u001b[0m     \u001b[0;32mdef\u001b[0m \u001b[0m__init__\u001b[0m\u001b[0;34m(\u001b[0m\u001b[0mself\u001b[0m\u001b[0;34m,\u001b[0m \u001b[0;34m*\u001b[0m\u001b[0margs\u001b[0m\u001b[0;34m,\u001b[0m \u001b[0;34m**\u001b[0m\u001b[0mkwargs\u001b[0m\u001b[0;34m)\u001b[0m\u001b[0;34m:\u001b[0m\u001b[0;34m\u001b[0m\u001b[0;34m\u001b[0m\u001b[0m\n\u001b[0;32m---> 29\u001b[0;31m         \u001b[0;32mraise\u001b[0m \u001b[0mNotImplementedError\u001b[0m\u001b[0;34m(\u001b[0m\u001b[0mARIMA_DEPRECATION_ERROR\u001b[0m\u001b[0;34m)\u001b[0m\u001b[0;34m\u001b[0m\u001b[0;34m\u001b[0m\u001b[0m\n\u001b[0m\u001b[1;32m     30\u001b[0m \u001b[0;34m\u001b[0m\u001b[0m\n\u001b[1;32m     31\u001b[0m \u001b[0;34m\u001b[0m\u001b[0m\n",
            "\u001b[0;31mNotImplementedError\u001b[0m: \nstatsmodels.tsa.arima_model.ARMA and statsmodels.tsa.arima_model.ARIMA have\nbeen removed in favor of statsmodels.tsa.arima.model.ARIMA (note the .\nbetween arima and model) and statsmodels.tsa.SARIMAX.\n\nstatsmodels.tsa.arima.model.ARIMA makes use of the statespace framework and\nis both well tested and maintained. It also offers alternative specialized\nparameter estimators.\n"
          ]
        }
      ],
      "source": [
        "# This won't work unless we have multiple years of data (which we currently don't)\n",
        "\n",
        "from statsmodels.tsa.arima_model import ARIMA\n",
        "\n",
        "y = data.loc[data['statefip']==31, ['hhincome','year']]\n",
        "y.index=pd.to_datetime(y.year)\n",
        "reg = ARIMA(y['hhincome'], order=(1,1,0)).fit()\n",
        "print(reg.summary())"
      ]
    },
    {
      "cell_type": "markdown",
      "metadata": {
        "id": "ZAZ7kZTGv6HF"
      },
      "source": [
        "### Modeling Discrete Outcomes\n",
        "\n",
        "If we have a [binary dependent variable](https://www.statsmodels.org/devel/discretemod.html), we are able to use either [Logit](https://www.statsmodels.org/devel/generated/statsmodels.discrete.discrete_model.Logit.html#statsmodels.discrete.discrete_model.Logit) or [Probit](https://www.statsmodels.org/devel/generated/statsmodels.discrete.discrete_model.Probit.html#statsmodels.discrete.discrete_model.Probit) models to estimate the effect of exogenous variables on our outcome of interest. To fit a Logit model:"
      ]
    },
    {
      "cell_type": "code",
      "execution_count": 26,
      "metadata": {
        "colab": {
          "base_uri": "https://localhost:8080/"
        },
        "id": "lxah-kGdv6HF",
        "outputId": "43c54a0e-ebca-4f45-862d-fccab65aa470"
      },
      "outputs": [
        {
          "output_type": "stream",
          "name": "stdout",
          "text": [
            "Optimization terminated successfully.\n",
            "         Current function value: 0.615837\n",
            "         Iterations 6\n"
          ]
        }
      ],
      "source": [
        "import statsmodels.api as sm\n",
        "\n",
        "myformula=\"married ~ hhincome + C(statefip) + C(year) + educ\"\n",
        "model= sm.Logit.from_formula(myformula, data=data).fit()"
      ]
    },
    {
      "cell_type": "markdown",
      "metadata": {
        "id": "fpEkICMAv6HF"
      },
      "source": [
        "### Modeling Count Data\n",
        "\n",
        "When modeling count data, we have options such as [Poisson](http://www.statsmodels.org/dev/generated/statsmodels.discrete.discrete_model.Poisson.html#statsmodels.discrete.discrete_model.Poisson) and [Negative Binomial](http://www.statsmodels.org/dev/generated/statsmodels.discrete.discrete_model.NegativeBinomial.html#statsmodels.discrete.discrete_model.NegativeBinomial) models."
      ]
    },
    {
      "cell_type": "code",
      "execution_count": null,
      "metadata": {
        "id": "83r3e1Srv6HF"
      },
      "outputs": [],
      "source": [
        "data = pd.read_csv(\"https://github.com/dustywhite7/Econ8310/raw/master/DataSets/auto-mpg.csv\")\n",
        "\n",
        "myformula=\"nchild ~ hhincome + C(statefip) + C(year) + educ + married\"\n",
        "\n",
        "model= sm.Poisson.from_formula(myformula, data=data).fit()"
      ]
    },
    {
      "cell_type": "markdown",
      "metadata": {
        "id": "cfMIvtBjv6HF"
      },
      "source": [
        "There are many other regression \"flavors\", and the best way to learn about what is available through `statsmodels` is to [read the docs](https://www.statsmodels.org/stable/user-guide.html)."
      ]
    },
    {
      "cell_type": "markdown",
      "metadata": {
        "id": "7HT6k-_8v6HF"
      },
      "source": [
        "## The `patsy` library\n",
        "\n",
        "We have been using regression equations in `statsmodels` a lot without really discussing what is happening behind the scenes. `statsmodels` relies on a library called `patsy` to parse regression equations and prepare our data for regression analysis. While `statsmodels` does a great job of incorporating the `patsy` library for us, this isn't always the case. In fact, it is a really valuable tool in many other contexts (think machine learning or deep learning).\n",
        "\n",
        "\n",
        "### Why use `patsy`?\n",
        "\n",
        "We don't necessarily have to use `patsy`. We could just select our variables manually. Creating a column of ones to serve as our intercept column is trivial (you of course remember that from the linear regression assignment). `patsy` is a tool for creating a standardized pipeline to deal with data that is stored in identical formats, and aids us in creating reusable or replicable code. Patsy allows us to separate our endogenous and exogenous variables AND to\n",
        "\t- \"Dummy out\" categorical variables\n",
        "\t- Easily transform variables (square, or log transforms, etc.)\n",
        "\t- Use identical transformations on future data\n",
        "    \n",
        "Even better, `patsy` is just as easy to use as regression equations. We just need to learn about the function wrappers that are necessary to create our processed data:"
      ]
    },
    {
      "cell_type": "code",
      "execution_count": null,
      "metadata": {
        "id": "kReX6wJOv6HG"
      },
      "outputs": [],
      "source": [
        "import patsy as pt\n",
        "import pandas as pd\n",
        "import numpy as np\n",
        "\n",
        "data = pd.read_csv(\"https://github.com/dustywhite7/Econ8320/blob/master/AssignmentData/assignment8Data.csv?raw=true\")\n",
        "\n",
        "# To create y AND x matrices\n",
        "y, x = pt.dmatrices(\"hhincome ~ year + educ + married + age\", data = data)"
      ]
    },
    {
      "cell_type": "markdown",
      "metadata": {
        "id": "ZhDwqCGgv6HG"
      },
      "source": [
        "In order to get started, we need to import `patsy`, and we typically give it the two-letter abbreviation `pt`. Once we have imported our data, we use the `pt.dmatrices` function. This function takes a regression equation (again, as a string), and a data source. The returned value is a **tuple** of `y` and `x`. We can break that tuple into two values by using the `y, x = ...` syntax, so that we have a `y` array and an `x` array.\n",
        "\n",
        "We don't have to create BOTH `y` and `x` data, though! We can use the `pt.dmatrix` function to just create an `x` matrix. Maybe we already have a dependent variable, and want to try out variations on our explanatory variables to see how each performs. In this case, our regression equation should have no column name to the left of the `~` symbol:"
      ]
    },
    {
      "cell_type": "code",
      "execution_count": null,
      "metadata": {
        "id": "bLvotPXlv6HG"
      },
      "outputs": [],
      "source": [
        "# To create ONLY an x matrix\n",
        "x = pt.dmatrix(\"~ year + educ + married + age\", data = data)"
      ]
    },
    {
      "cell_type": "markdown",
      "metadata": {
        "id": "qgPFe5T7v6HM"
      },
      "source": [
        "One more note is that these regression equations automatically include an intercept term. If you do NOT want an intercept term (some regression models and most machine learning models don't use them), then you can add `-1` as an exogenous variable in your regression equation, in order to indicate that you want to eliminate the column of ones that make up the intercept column in our matrix of exogenous regressors.\n",
        "\n",
        "### Categorical Variables\n",
        "\n",
        "Again, we have the functions described in the regression section above available to us as we transform our data. We can create categorical variables:"
      ]
    },
    {
      "cell_type": "code",
      "execution_count": null,
      "metadata": {
        "id": "D2Iit9Kwv6HM"
      },
      "outputs": [],
      "source": [
        "# To create y AND x matrices\n",
        "eqn = \"hhincome ~ C(year) + educ + married + age\"\n",
        "y, x = pt.dmatrices(eqn, data = data)"
      ]
    },
    {
      "cell_type": "markdown",
      "metadata": {
        "id": "NYiQNw4Hv6HN"
      },
      "source": [
        "And (again) we can transform variables!"
      ]
    },
    {
      "cell_type": "code",
      "execution_count": null,
      "metadata": {
        "id": "xMk5Uq6Qv6HN"
      },
      "outputs": [],
      "source": [
        "# To create y AND x matrices\n",
        "eqn = \"I(np.log(hhincome)) ~ C(year) + educ + married + age + I(age**2)\"\n",
        "y, x = pt.dmatrices(eqn, data = data)"
      ]
    },
    {
      "cell_type": "markdown",
      "metadata": {
        "id": "eUeevAfZv6HN"
      },
      "source": [
        "We can also use interaction operators. `*` will interact each value of two columns, and also include the original columns in the regression model. `:` will include only the interaction terms, while omitting the original columns. Check out the [explanation of formulas](https://patsy.readthedocs.io/en/latest/formulas.html) for more details.\n",
        "\n",
        "\n",
        "### SUPER IMPORTANT $\\rightarrow$ Same Transformation on New Data!\n",
        "\n",
        "Often, we will want to build a model with observed data that can make predictions about new observations as those observations are recorded. `patsy` provides a simple function to take the structure of one exogenous matrix and generate another identically structured matrix using new data:"
      ]
    },
    {
      "cell_type": "code",
      "execution_count": null,
      "metadata": {
        "id": "xe5UoeFdv6HN"
      },
      "outputs": [],
      "source": [
        "# To create a new x matrix based on our previous version\n",
        "xNew = pt.build_design_matrices([x.design_info], dataNew)"
      ]
    },
    {
      "cell_type": "markdown",
      "metadata": {
        "id": "281p6_w-v6HN"
      },
      "source": [
        "In other words, we can create a new matrix in the SAME SHAPE as our original `x` matrix by using the `build_design_matrices()` function in `patsy`.\n",
        "\n",
        "We pass a list containing the old design matrix information (because we can actually create many matrices simultaneously), as well as the new data from which to construct our new matrix.\n",
        "\n",
        "Why does recreating our `x` array matter? This process ensures that we always have the same number of categories in our categorical variables. A new, smaller subset of data that is freshly observed may not contain observations of every category, in which case an updated patsy matrix would not contain the correct number of columns! We are able to maintain consistency in our model, making our work replicable. Most importantly, this will streamline the use of `statsmodels` and `sklearn` in the same workflow!\n",
        "\n",
        "Speaking of `sklearn`..."
      ]
    },
    {
      "cell_type": "markdown",
      "metadata": {
        "id": "mEEXon1Av6HN"
      },
      "source": [
        "## `sklearn`\n",
        "\n",
        "What `statsmodels` does for regression analysis, `sklearn` does for predictive analytics and machine learning. It is a truly fabulous library. `sklearn` is likely the most popular machine learning library, and has a standard API to make using the library VERY simple. Even better, it's documentation is some of the nicest documentation you will find anywhere, and contains incredible detail about how to implement models, as well as lessons about the \"how\" and \"why\" of using each model. You couldn't write a better textbook about machine learning than the documentation for `sklearn`.\n",
        "\n",
        "Below, we will briefly discuss some of the models that are most commonly utilized from `sklearn`. Details will be sparse. We are mostly focused on the code implementation of these models. More detail on how machine learning models work is provided in  Business Forecasting, and is outside the scope of this course.\n",
        "\n",
        "### Decision Tree Classification (and Regression)\n",
        "\n",
        "[Classification](http://scikit-learn.org/stable/modules/generated/sklearn.tree.DecisionTreeClassifier.html#sklearn.tree.DecisionTreeClassifier) and [Regression](http://scikit-learn.org/stable/modules/generated/sklearn.tree.DecisionTreeRegressor.html#sklearn.tree.DecisionTreeRegressor) Trees (CARTs) are the standard jumping-off point for exploring machine learning. They are very easy to implement in `sklearn`:"
      ]
    },
    {
      "cell_type": "code",
      "execution_count": null,
      "metadata": {
        "id": "g0-kpGfHv6HO"
      },
      "outputs": [],
      "source": [
        "from sklearn import tree\n",
        "from sklearn.metrics import accuracy_score\n",
        "import pandas as pd\n",
        "import patsy as pt\n",
        "\n",
        "data = pd.read_csv(\"https://github.com/dustywhite7/pythonMikkeli/raw/master/exampleData/roomOccupancy.csv\")\n",
        "\n",
        "y, x = pt.dmatrices(\"Occupancy ~ CO2\", data=data)\n",
        "\n",
        "clf = tree.DecisionTreeClassifier()\n",
        "clf = clf.fit(x, y.squeeze())\n",
        "\n",
        "pred = clf.predict(x)\n",
        "\n",
        "print(\"In-sample accuracy: {}\".format(accuracy_score(y.squeeze(), pred)))"
      ]
    },
    {
      "cell_type": "code",
      "source": [
        "from sklearn import tree\n",
        "from sklearn.metrics import accuracy_score\n",
        "import pandas as pd\n",
        "import patsy as pt\n",
        "\n",
        "data = pd.read_csv(\"https://github.com/dustywhite7/pythonMikkeli/raw/master/exampleData/roomOccupancy.csv\")\n",
        "\n",
        "y, x = pt.dmatrices(\"Occupancy ~ 1 + Light + CO2\", data=data)"
      ],
      "metadata": {
        "collapsed": true,
        "colab": {
          "base_uri": "https://localhost:8080/"
        },
        "id": "odiLYmQ15Rhg",
        "outputId": "5c46d172-5951-42e3-9f12-94219d048677"
      },
      "execution_count": 29,
      "outputs": [
        {
          "output_type": "execute_result",
          "data": {
            "text/plain": [
              "DesignMatrix with shape (8143, 3)\n",
              "  Intercept  Light        CO2\n",
              "          1  426.0  721.25000\n",
              "          1  429.5  714.00000\n",
              "          1  426.0  713.50000\n",
              "          1  426.0  708.25000\n",
              "          1  426.0  704.50000\n",
              "          1  419.0  701.00000\n",
              "          1  419.0  701.66667\n",
              "          1  419.0  699.00000\n",
              "          1  419.0  689.33333\n",
              "          1  419.0  688.00000\n",
              "          1  419.0  690.25000\n",
              "          1  419.0  691.00000\n",
              "          1  419.0  683.50000\n",
              "          1  419.0  687.50000\n",
              "          1  419.0  686.00000\n",
              "          1  418.5  680.50000\n",
              "          1    0.0  681.50000\n",
              "          1    0.0  685.00000\n",
              "          1    0.0  685.00000\n",
              "          1    0.0  689.00000\n",
              "          1    0.0  689.50000\n",
              "          1    0.0  689.00000\n",
              "          1    0.0  691.00000\n",
              "          1    0.0  688.00000\n",
              "          1    0.0  689.50000\n",
              "          1    0.0  689.00000\n",
              "          1    0.0  685.66667\n",
              "          1    0.0  687.00000\n",
              "          1    0.0  688.00000\n",
              "          1    0.0  670.00000\n",
              "  [8113 rows omitted]\n",
              "  Terms:\n",
              "    'Intercept' (column 0)\n",
              "    'Light' (column 1)\n",
              "    'CO2' (column 2)\n",
              "  (to view full data, use np.asarray(this_obj))"
            ]
          },
          "metadata": {},
          "execution_count": 29
        }
      ]
    },
    {
      "cell_type": "markdown",
      "metadata": {
        "id": "LJdxdLZzv6HO"
      },
      "source": [
        "    In-sample accuracy: 0.9753162225224119\n",
        "\n",
        "\n",
        "### Support Vector Machines\n",
        "\n",
        "We also implement [Support Vector Machines](http://scikit-learn.org/stable/modules/svm.html#svm) for both [classification](http://scikit-learn.org/stable/modules/generated/sklearn.svm.SVC.html#sklearn.svm.SVC) and [regression](http://scikit-learn.org/stable/modules/generated/sklearn.svm.SVR.html#sklearn.svm.SVR):"
      ]
    },
    {
      "cell_type": "code",
      "execution_count": 32,
      "metadata": {
        "colab": {
          "base_uri": "https://localhost:8080/"
        },
        "id": "SakcCERXv6HO",
        "outputId": "bbeb5c5f-421e-47ed-897a-1dc207f3ede8"
      },
      "outputs": [
        {
          "output_type": "stream",
          "name": "stdout",
          "text": [
            "In-sample accuracy: 0.9887019525973229\n"
          ]
        }
      ],
      "source": [
        "from sklearn import svm\n",
        "from sklearn.metrics import accuracy_score\n",
        "\n",
        "clf = svm.SVC()\n",
        "clf = clf.fit(x, y.squeeze())\n",
        "\n",
        "pred = clf.predict(x)\n",
        "\n",
        "print(\"In-sample accuracy: {}\".format(accuracy_score(y.squeeze(), pred)))"
      ]
    },
    {
      "cell_type": "code",
      "source": [
        "from sklearn import tree\n",
        "from sklearn.metrics import accuracy_score\n",
        "\n",
        "clf = tree.DecisionTreeClassifier()\n",
        "clf = clf.fit(x, y)\n",
        "\n",
        "pred = clf.predict(x)\n",
        "\n",
        "print(accuracy_score(y, pred))"
      ],
      "metadata": {
        "colab": {
          "base_uri": "https://localhost:8080/"
        },
        "id": "T2-Kgtih57fI",
        "outputId": "ef89aa41-a004-4611-a6e9-8752a64d1019"
      },
      "execution_count": 31,
      "outputs": [
        {
          "output_type": "stream",
          "name": "stdout",
          "text": [
            "1.0\n"
          ]
        }
      ]
    },
    {
      "cell_type": "markdown",
      "metadata": {
        "id": "zQ0Eo4kKv6HO"
      },
      "source": [
        "    /opt/conda/lib/python3.7/site-packages/sklearn/svm/base.py:193: FutureWarning: The default value of gamma will change from 'auto' to 'scale' in version 0.22 to account better for unscaled features. Set gamma explicitly to 'auto' or 'scale' to avoid this warning.\n",
        "      \"avoid this warning.\", FutureWarning)\n",
        "\n",
        "\n",
        "    In-sample accuracy: 0.9397028122313643\n",
        "\n",
        "\n",
        "Can you see the API pattern yet?\n",
        "\n",
        "### Random Forest Models\n",
        "\n",
        "Again, available in both [classification](http://scikit-learn.org/stable/modules/generated/sklearn.ensemble.RandomForestClassifier.html#sklearn.ensemble.RandomForestClassifier) and [regression](http://scikit-learn.org/stable/modules/generated/sklearn.ensemble.RandomForestRegressor.html#sklearn.ensemble.RandomForestRegressor) flavors, these models are aggregations of many randomized Decision Trees."
      ]
    },
    {
      "cell_type": "code",
      "execution_count": null,
      "metadata": {
        "id": "5mszMyeav6HO"
      },
      "outputs": [],
      "source": [
        "from sklearn.ensemble import RandomForestClassifier\n",
        "from sklearn.metrics import accuracy_score\n",
        "\n",
        "clf = RandomForestClassifier(n_estimators=50)\n",
        "clf = clf.fit(x, y.squeeze())\n",
        "\n",
        "pred = clf.predict(x)\n",
        "\n",
        "print(\"In-sample accuracy: {}\".format(accuracy_score(y.squeeze(), pred)))"
      ]
    },
    {
      "cell_type": "markdown",
      "metadata": {
        "id": "p9_we2kgv6HP"
      },
      "source": [
        "    In-sample accuracy: 0.9748250030701215\n",
        "\n",
        "\n",
        "There MUST be a pattern here...\n",
        "\n",
        "Of course there is! We import our classifier (or regressor), then create an instance of that object. We can name it `clf` or anything else that we prefer. From there, the process is the same:\n",
        "- Use the `.fit()` method, passing in the relevant data for our context\n",
        "- Create predictions using our fitted model with `.predict()` and new exogenous data (or the old data to test in-sample fit)\n",
        "- Measure the performance of our model with `accuracy_score`, or any other metric that can describe performance given a specific use case\n",
        "\n",
        "### More from `sklearn`\n",
        "\n",
        "Many other tools are also available to aid in the data cleaning process through `sklearn`. Some of these are:\n",
        "\n",
        "- [Principal Component Analysis (PCA)](http://scikit-learn.org/stable/modules/generated/sklearn.decomposition.PCA.html#sklearn.decomposition.PCA)\n",
        "- [Factor Analysis](http://scikit-learn.org/stable/modules/generated/sklearn.decomposition.FactorAnalysis.html#sklearn.decomposition.FactorAnalysis)\n",
        "- Many [Cross-Validation Algorithms](http://scikit-learn.org/stable/modules/cross_validation.html)\n",
        "- [Hyperparameter Tuning](http://scikit-learn.org/stable/modules/grid_search.html)\n",
        "   - Finding the correct parameters for a decision tree or random forest, for example\n",
        "- [Model Evaluation Tools](http://scikit-learn.org/stable/modules/model_evaluation.html)\n",
        "- [Plotting decision trees](https://scikit-learn.org/stable/modules/generated/sklearn.tree.plot_tree.html#sklearn.tree.plot_tree)\n"
      ]
    },
    {
      "cell_type": "markdown",
      "metadata": {
        "id": "92Exeiyfv6HP"
      },
      "source": [
        "## Solve-it!\n",
        "\n",
        "Using the wage data provided here (https://github.com/dustywhite7/pythonMikkeli/raw/master/exampleData/wagePanelData.csv), create a linear regression model to explain and/or predict wages. Your data set should be labeled `data` and your fitted model should be stored as `reg`. If you do not name the model correctly, you won't get any points!\n",
        "\n",
        "Please put all your code for this exercise in the cell labeled `#si-linear-regression` file found below."
      ]
    },
    {
      "cell_type": "code",
      "execution_count": 52,
      "metadata": {
        "colab": {
          "base_uri": "https://localhost:8080/"
        },
        "id": "TGYHVi50v6HP",
        "outputId": "d6eeb890-c322-4cb0-e307-7c9969e17b9d"
      },
      "outputs": [
        {
          "output_type": "stream",
          "name": "stdout",
          "text": [
            "                            OLS Regression Results                            \n",
            "==============================================================================\n",
            "Dep. Variable:               log_wage   R-squared:                       0.210\n",
            "Model:                            OLS   Adj. R-squared:                  0.209\n",
            "Method:                 Least Squares   F-statistic:                     221.0\n",
            "Date:                Wed, 23 Apr 2025   Prob (F-statistic):          1.15e-209\n",
            "Time:                        00:37:12   Log-Likelihood:                -2198.2\n",
            "No. Observations:                4165   AIC:                             4408.\n",
            "Df Residuals:                    4159   BIC:                             4446.\n",
            "Df Model:                           5                                         \n",
            "Covariance Type:            nonrobust                                         \n",
            "===========================================================================================\n",
            "                              coef    std err          t      P>|t|      [0.025      0.975]\n",
            "-------------------------------------------------------------------------------------------\n",
            "Intercept                   6.2060      0.100     61.830      0.000       6.009       6.403\n",
            "C(industry_code)[T.1]       0.1398      0.013     10.354      0.000       0.113       0.166\n",
            "C(occupation_code)[T.1]    -0.1655      0.017     -9.573      0.000      -0.199      -0.132\n",
            "education                   0.0054      0.016      0.329      0.742      -0.027       0.037\n",
            "I(education ** 2)           0.0022      0.001      3.309      0.001       0.001       0.003\n",
            "union_member                0.1516      0.014     10.549      0.000       0.123       0.180\n",
            "==============================================================================\n",
            "Omnibus:                       16.373   Durbin-Watson:                   0.715\n",
            "Prob(Omnibus):                  0.000   Jarque-Bera (JB):               20.458\n",
            "Skew:                           0.058   Prob(JB):                     3.61e-05\n",
            "Kurtosis:                       3.323   Cond. No.                     2.99e+03\n",
            "==============================================================================\n",
            "\n",
            "Notes:\n",
            "[1] Standard Errors assume that the covariance matrix of the errors is correctly specified.\n",
            "[2] The condition number is large, 2.99e+03. This might indicate that there are\n",
            "strong multicollinearity or other numerical problems.\n"
          ]
        }
      ],
      "source": [
        "#si-linear-regression\n",
        "import statsmodels.formula.api as smf\n",
        "import pandas as pd, numpy as np\n",
        "\n",
        "data = pd.read_csv(\"https://raw.githubusercontent.com/dustywhite7/pythonMikkeli/master/exampleData/wagePanelData.csv\")\n",
        "\n",
        "reg = smf.ols(\"log_wage ~ education + I(education**2) + union_member + C(industry_code) + C(occupation_code)\", data=data).fit()\n",
        "print(reg.summary())\n",
        "\n"
      ]
    },
    {
      "cell_type": "markdown",
      "metadata": {
        "id": "wCckxkLDv6HP"
      },
      "source": [
        "## Solve-it!\n",
        "\n",
        "Import the pass/fail data for students in Portugal found here(https://github.com/dustywhite7/pythonMikkeli/raw/master/exampleData/passFailTrain.csv), and create a logistic regression model\n",
        "using `statsmodels` that can estimate the likelihood of students passing or failing class. The dependent variable is contained in the column called `G3`, which takes the value `1` when the student has a passing final grade, and `0` otherwise.\n",
        "\n",
        "Call your fitted model `reg`, and place all code for this exercise in the cell labeled `#si-logistic-regression` file found below."
      ]
    },
    {
      "cell_type": "code",
      "execution_count": 64,
      "metadata": {
        "collapsed": true,
        "colab": {
          "base_uri": "https://localhost:8080/"
        },
        "id": "P7smMgv_v6HQ",
        "outputId": "f4c1fec2-00b7-4dca-c25d-69f6d93bbcee"
      },
      "outputs": [
        {
          "output_type": "stream",
          "name": "stdout",
          "text": [
            "Optimization terminated successfully.\n",
            "         Current function value: 0.591541\n",
            "         Iterations 5\n",
            "                           Logit Regression Results                           \n",
            "==============================================================================\n",
            "Dep. Variable:                     G3   No. Observations:                  296\n",
            "Model:                          Logit   Df Residuals:                      290\n",
            "Method:                           MLE   Df Model:                            5\n",
            "Date:                Wed, 23 Apr 2025   Pseudo R-squ.:                 0.05357\n",
            "Time:                        01:04:10   Log-Likelihood:                -175.10\n",
            "converged:                       True   LL-Null:                       -185.01\n",
            "Covariance Type:            nonrobust   LLR p-value:                  0.001350\n",
            "==============================================================================\n",
            "                 coef    std err          z      P>|z|      [0.025      0.975]\n",
            "------------------------------------------------------------------------------\n",
            "Intercept      1.2602      0.515      2.448      0.014       0.251       2.269\n",
            "Walc           0.1353      0.113      1.197      0.231      -0.086       0.357\n",
            "Medu           0.3132      0.155      2.015      0.044       0.009       0.618\n",
            "Fedu           0.0182      0.153      0.118      0.906      -0.283       0.319\n",
            "goout         -0.4754      0.136     -3.486      0.000      -0.743      -0.208\n",
            "absences      -0.0253      0.015     -1.730      0.084      -0.054       0.003\n",
            "==============================================================================\n"
          ]
        }
      ],
      "source": [
        "#si-logistic-regression\n",
        "import statsmodels.api as sm\n",
        "import pandas as pd, numpy as np\n",
        "\n",
        "data = pd.read_csv(\"https://raw.githubusercontent.com/dustywhite7/pythonMikkeli/master/exampleData/passFailTrain.csv\")\n",
        "\n",
        "reg= sm.Logit.from_formula(\"G3 ~ Walc + Medu + Fedu + goout + absences\", data=data).fit()\n",
        "print(reg.summary())\n",
        "\n",
        "\n",
        "\n",
        "\n"
      ]
    },
    {
      "cell_type": "code",
      "source": [
        "data.describe()"
      ],
      "metadata": {
        "collapsed": true,
        "colab": {
          "base_uri": "https://localhost:8080/",
          "height": 367
        },
        "id": "2wC-0QuUCYVt",
        "outputId": "543ed60a-6bdd-4efc-d9c9-a68d36a0cb41"
      },
      "execution_count": 45,
      "outputs": [
        {
          "output_type": "execute_result",
          "data": {
            "text/plain": [
              "       Unnamed: 0      school         sex         age     address     famsize  \\\n",
              "count  296.000000  296.000000  296.000000  296.000000  296.000000  296.000000   \n",
              "mean   199.540541    0.101351    0.462838   16.736486    0.790541    0.290541   \n",
              "std    110.973191    0.302304    0.499461    1.274849    0.407612    0.454781   \n",
              "min      1.000000    0.000000    0.000000   15.000000    0.000000    0.000000   \n",
              "25%    105.750000    0.000000    0.000000   16.000000    1.000000    0.000000   \n",
              "50%    204.500000    0.000000    0.000000   17.000000    1.000000    0.000000   \n",
              "75%    293.250000    0.000000    1.000000   18.000000    1.000000    1.000000   \n",
              "max    394.000000    1.000000    1.000000   22.000000    1.000000    1.000000   \n",
              "\n",
              "          Pstatus        Medu        Fedu        Mjob  ...      famrel  \\\n",
              "count  296.000000  296.000000  296.000000  296.000000  ...  296.000000   \n",
              "mean     0.898649    2.746622    2.540541    2.141892  ...    3.925676   \n",
              "std      0.302304    1.079857    1.075952    1.232389  ...    0.887512   \n",
              "min      0.000000    0.000000    0.000000    0.000000  ...    1.000000   \n",
              "25%      1.000000    2.000000    2.000000    2.000000  ...    4.000000   \n",
              "50%      1.000000    3.000000    2.000000    2.000000  ...    4.000000   \n",
              "75%      1.000000    4.000000    3.000000    3.000000  ...    5.000000   \n",
              "max      1.000000    4.000000    4.000000    4.000000  ...    5.000000   \n",
              "\n",
              "         freetime       goout        Dalc        Walc      health    absences  \\\n",
              "count  296.000000  296.000000  296.000000  296.000000  296.000000  296.000000   \n",
              "mean     3.236486    3.175676    1.516892    2.361486    3.523649    6.016892   \n",
              "std      1.030790    1.127266    0.913024    1.312677    1.418802    8.541606   \n",
              "min      1.000000    1.000000    1.000000    1.000000    1.000000    0.000000   \n",
              "25%      3.000000    2.000000    1.000000    1.000000    3.000000    0.000000   \n",
              "50%      3.000000    3.000000    1.000000    2.000000    4.000000    4.000000   \n",
              "75%      4.000000    4.000000    2.000000    3.000000    5.000000    8.000000   \n",
              "max      5.000000    5.000000    5.000000    5.000000    5.000000   75.000000   \n",
              "\n",
              "               G1          G2          G3  \n",
              "count  296.000000  296.000000  296.000000  \n",
              "mean     0.665541    0.962838    0.682432  \n",
              "std      0.472600    0.189479    0.466319  \n",
              "min      0.000000    0.000000    0.000000  \n",
              "25%      0.000000    1.000000    0.000000  \n",
              "50%      1.000000    1.000000    1.000000  \n",
              "75%      1.000000    1.000000    1.000000  \n",
              "max      1.000000    1.000000    1.000000  \n",
              "\n",
              "[8 rows x 34 columns]"
            ],
            "text/html": [
              "\n",
              "  <div id=\"df-960fb70e-9bcd-4ba2-9fc2-120be0cae7dc\" class=\"colab-df-container\">\n",
              "    <div>\n",
              "<style scoped>\n",
              "    .dataframe tbody tr th:only-of-type {\n",
              "        vertical-align: middle;\n",
              "    }\n",
              "\n",
              "    .dataframe tbody tr th {\n",
              "        vertical-align: top;\n",
              "    }\n",
              "\n",
              "    .dataframe thead th {\n",
              "        text-align: right;\n",
              "    }\n",
              "</style>\n",
              "<table border=\"1\" class=\"dataframe\">\n",
              "  <thead>\n",
              "    <tr style=\"text-align: right;\">\n",
              "      <th></th>\n",
              "      <th>Unnamed: 0</th>\n",
              "      <th>school</th>\n",
              "      <th>sex</th>\n",
              "      <th>age</th>\n",
              "      <th>address</th>\n",
              "      <th>famsize</th>\n",
              "      <th>Pstatus</th>\n",
              "      <th>Medu</th>\n",
              "      <th>Fedu</th>\n",
              "      <th>Mjob</th>\n",
              "      <th>...</th>\n",
              "      <th>famrel</th>\n",
              "      <th>freetime</th>\n",
              "      <th>goout</th>\n",
              "      <th>Dalc</th>\n",
              "      <th>Walc</th>\n",
              "      <th>health</th>\n",
              "      <th>absences</th>\n",
              "      <th>G1</th>\n",
              "      <th>G2</th>\n",
              "      <th>G3</th>\n",
              "    </tr>\n",
              "  </thead>\n",
              "  <tbody>\n",
              "    <tr>\n",
              "      <th>count</th>\n",
              "      <td>296.000000</td>\n",
              "      <td>296.000000</td>\n",
              "      <td>296.000000</td>\n",
              "      <td>296.000000</td>\n",
              "      <td>296.000000</td>\n",
              "      <td>296.000000</td>\n",
              "      <td>296.000000</td>\n",
              "      <td>296.000000</td>\n",
              "      <td>296.000000</td>\n",
              "      <td>296.000000</td>\n",
              "      <td>...</td>\n",
              "      <td>296.000000</td>\n",
              "      <td>296.000000</td>\n",
              "      <td>296.000000</td>\n",
              "      <td>296.000000</td>\n",
              "      <td>296.000000</td>\n",
              "      <td>296.000000</td>\n",
              "      <td>296.000000</td>\n",
              "      <td>296.000000</td>\n",
              "      <td>296.000000</td>\n",
              "      <td>296.000000</td>\n",
              "    </tr>\n",
              "    <tr>\n",
              "      <th>mean</th>\n",
              "      <td>199.540541</td>\n",
              "      <td>0.101351</td>\n",
              "      <td>0.462838</td>\n",
              "      <td>16.736486</td>\n",
              "      <td>0.790541</td>\n",
              "      <td>0.290541</td>\n",
              "      <td>0.898649</td>\n",
              "      <td>2.746622</td>\n",
              "      <td>2.540541</td>\n",
              "      <td>2.141892</td>\n",
              "      <td>...</td>\n",
              "      <td>3.925676</td>\n",
              "      <td>3.236486</td>\n",
              "      <td>3.175676</td>\n",
              "      <td>1.516892</td>\n",
              "      <td>2.361486</td>\n",
              "      <td>3.523649</td>\n",
              "      <td>6.016892</td>\n",
              "      <td>0.665541</td>\n",
              "      <td>0.962838</td>\n",
              "      <td>0.682432</td>\n",
              "    </tr>\n",
              "    <tr>\n",
              "      <th>std</th>\n",
              "      <td>110.973191</td>\n",
              "      <td>0.302304</td>\n",
              "      <td>0.499461</td>\n",
              "      <td>1.274849</td>\n",
              "      <td>0.407612</td>\n",
              "      <td>0.454781</td>\n",
              "      <td>0.302304</td>\n",
              "      <td>1.079857</td>\n",
              "      <td>1.075952</td>\n",
              "      <td>1.232389</td>\n",
              "      <td>...</td>\n",
              "      <td>0.887512</td>\n",
              "      <td>1.030790</td>\n",
              "      <td>1.127266</td>\n",
              "      <td>0.913024</td>\n",
              "      <td>1.312677</td>\n",
              "      <td>1.418802</td>\n",
              "      <td>8.541606</td>\n",
              "      <td>0.472600</td>\n",
              "      <td>0.189479</td>\n",
              "      <td>0.466319</td>\n",
              "    </tr>\n",
              "    <tr>\n",
              "      <th>min</th>\n",
              "      <td>1.000000</td>\n",
              "      <td>0.000000</td>\n",
              "      <td>0.000000</td>\n",
              "      <td>15.000000</td>\n",
              "      <td>0.000000</td>\n",
              "      <td>0.000000</td>\n",
              "      <td>0.000000</td>\n",
              "      <td>0.000000</td>\n",
              "      <td>0.000000</td>\n",
              "      <td>0.000000</td>\n",
              "      <td>...</td>\n",
              "      <td>1.000000</td>\n",
              "      <td>1.000000</td>\n",
              "      <td>1.000000</td>\n",
              "      <td>1.000000</td>\n",
              "      <td>1.000000</td>\n",
              "      <td>1.000000</td>\n",
              "      <td>0.000000</td>\n",
              "      <td>0.000000</td>\n",
              "      <td>0.000000</td>\n",
              "      <td>0.000000</td>\n",
              "    </tr>\n",
              "    <tr>\n",
              "      <th>25%</th>\n",
              "      <td>105.750000</td>\n",
              "      <td>0.000000</td>\n",
              "      <td>0.000000</td>\n",
              "      <td>16.000000</td>\n",
              "      <td>1.000000</td>\n",
              "      <td>0.000000</td>\n",
              "      <td>1.000000</td>\n",
              "      <td>2.000000</td>\n",
              "      <td>2.000000</td>\n",
              "      <td>2.000000</td>\n",
              "      <td>...</td>\n",
              "      <td>4.000000</td>\n",
              "      <td>3.000000</td>\n",
              "      <td>2.000000</td>\n",
              "      <td>1.000000</td>\n",
              "      <td>1.000000</td>\n",
              "      <td>3.000000</td>\n",
              "      <td>0.000000</td>\n",
              "      <td>0.000000</td>\n",
              "      <td>1.000000</td>\n",
              "      <td>0.000000</td>\n",
              "    </tr>\n",
              "    <tr>\n",
              "      <th>50%</th>\n",
              "      <td>204.500000</td>\n",
              "      <td>0.000000</td>\n",
              "      <td>0.000000</td>\n",
              "      <td>17.000000</td>\n",
              "      <td>1.000000</td>\n",
              "      <td>0.000000</td>\n",
              "      <td>1.000000</td>\n",
              "      <td>3.000000</td>\n",
              "      <td>2.000000</td>\n",
              "      <td>2.000000</td>\n",
              "      <td>...</td>\n",
              "      <td>4.000000</td>\n",
              "      <td>3.000000</td>\n",
              "      <td>3.000000</td>\n",
              "      <td>1.000000</td>\n",
              "      <td>2.000000</td>\n",
              "      <td>4.000000</td>\n",
              "      <td>4.000000</td>\n",
              "      <td>1.000000</td>\n",
              "      <td>1.000000</td>\n",
              "      <td>1.000000</td>\n",
              "    </tr>\n",
              "    <tr>\n",
              "      <th>75%</th>\n",
              "      <td>293.250000</td>\n",
              "      <td>0.000000</td>\n",
              "      <td>1.000000</td>\n",
              "      <td>18.000000</td>\n",
              "      <td>1.000000</td>\n",
              "      <td>1.000000</td>\n",
              "      <td>1.000000</td>\n",
              "      <td>4.000000</td>\n",
              "      <td>3.000000</td>\n",
              "      <td>3.000000</td>\n",
              "      <td>...</td>\n",
              "      <td>5.000000</td>\n",
              "      <td>4.000000</td>\n",
              "      <td>4.000000</td>\n",
              "      <td>2.000000</td>\n",
              "      <td>3.000000</td>\n",
              "      <td>5.000000</td>\n",
              "      <td>8.000000</td>\n",
              "      <td>1.000000</td>\n",
              "      <td>1.000000</td>\n",
              "      <td>1.000000</td>\n",
              "    </tr>\n",
              "    <tr>\n",
              "      <th>max</th>\n",
              "      <td>394.000000</td>\n",
              "      <td>1.000000</td>\n",
              "      <td>1.000000</td>\n",
              "      <td>22.000000</td>\n",
              "      <td>1.000000</td>\n",
              "      <td>1.000000</td>\n",
              "      <td>1.000000</td>\n",
              "      <td>4.000000</td>\n",
              "      <td>4.000000</td>\n",
              "      <td>4.000000</td>\n",
              "      <td>...</td>\n",
              "      <td>5.000000</td>\n",
              "      <td>5.000000</td>\n",
              "      <td>5.000000</td>\n",
              "      <td>5.000000</td>\n",
              "      <td>5.000000</td>\n",
              "      <td>5.000000</td>\n",
              "      <td>75.000000</td>\n",
              "      <td>1.000000</td>\n",
              "      <td>1.000000</td>\n",
              "      <td>1.000000</td>\n",
              "    </tr>\n",
              "  </tbody>\n",
              "</table>\n",
              "<p>8 rows × 34 columns</p>\n",
              "</div>\n",
              "    <div class=\"colab-df-buttons\">\n",
              "\n",
              "  <div class=\"colab-df-container\">\n",
              "    <button class=\"colab-df-convert\" onclick=\"convertToInteractive('df-960fb70e-9bcd-4ba2-9fc2-120be0cae7dc')\"\n",
              "            title=\"Convert this dataframe to an interactive table.\"\n",
              "            style=\"display:none;\">\n",
              "\n",
              "  <svg xmlns=\"http://www.w3.org/2000/svg\" height=\"24px\" viewBox=\"0 -960 960 960\">\n",
              "    <path d=\"M120-120v-720h720v720H120Zm60-500h600v-160H180v160Zm220 220h160v-160H400v160Zm0 220h160v-160H400v160ZM180-400h160v-160H180v160Zm440 0h160v-160H620v160ZM180-180h160v-160H180v160Zm440 0h160v-160H620v160Z\"/>\n",
              "  </svg>\n",
              "    </button>\n",
              "\n",
              "  <style>\n",
              "    .colab-df-container {\n",
              "      display:flex;\n",
              "      gap: 12px;\n",
              "    }\n",
              "\n",
              "    .colab-df-convert {\n",
              "      background-color: #E8F0FE;\n",
              "      border: none;\n",
              "      border-radius: 50%;\n",
              "      cursor: pointer;\n",
              "      display: none;\n",
              "      fill: #1967D2;\n",
              "      height: 32px;\n",
              "      padding: 0 0 0 0;\n",
              "      width: 32px;\n",
              "    }\n",
              "\n",
              "    .colab-df-convert:hover {\n",
              "      background-color: #E2EBFA;\n",
              "      box-shadow: 0px 1px 2px rgba(60, 64, 67, 0.3), 0px 1px 3px 1px rgba(60, 64, 67, 0.15);\n",
              "      fill: #174EA6;\n",
              "    }\n",
              "\n",
              "    .colab-df-buttons div {\n",
              "      margin-bottom: 4px;\n",
              "    }\n",
              "\n",
              "    [theme=dark] .colab-df-convert {\n",
              "      background-color: #3B4455;\n",
              "      fill: #D2E3FC;\n",
              "    }\n",
              "\n",
              "    [theme=dark] .colab-df-convert:hover {\n",
              "      background-color: #434B5C;\n",
              "      box-shadow: 0px 1px 3px 1px rgba(0, 0, 0, 0.15);\n",
              "      filter: drop-shadow(0px 1px 2px rgba(0, 0, 0, 0.3));\n",
              "      fill: #FFFFFF;\n",
              "    }\n",
              "  </style>\n",
              "\n",
              "    <script>\n",
              "      const buttonEl =\n",
              "        document.querySelector('#df-960fb70e-9bcd-4ba2-9fc2-120be0cae7dc button.colab-df-convert');\n",
              "      buttonEl.style.display =\n",
              "        google.colab.kernel.accessAllowed ? 'block' : 'none';\n",
              "\n",
              "      async function convertToInteractive(key) {\n",
              "        const element = document.querySelector('#df-960fb70e-9bcd-4ba2-9fc2-120be0cae7dc');\n",
              "        const dataTable =\n",
              "          await google.colab.kernel.invokeFunction('convertToInteractive',\n",
              "                                                    [key], {});\n",
              "        if (!dataTable) return;\n",
              "\n",
              "        const docLinkHtml = 'Like what you see? Visit the ' +\n",
              "          '<a target=\"_blank\" href=https://colab.research.google.com/notebooks/data_table.ipynb>data table notebook</a>'\n",
              "          + ' to learn more about interactive tables.';\n",
              "        element.innerHTML = '';\n",
              "        dataTable['output_type'] = 'display_data';\n",
              "        await google.colab.output.renderOutput(dataTable, element);\n",
              "        const docLink = document.createElement('div');\n",
              "        docLink.innerHTML = docLinkHtml;\n",
              "        element.appendChild(docLink);\n",
              "      }\n",
              "    </script>\n",
              "  </div>\n",
              "\n",
              "\n",
              "<div id=\"df-53a57b8e-2ee9-4888-b67f-5c887b032fe6\">\n",
              "  <button class=\"colab-df-quickchart\" onclick=\"quickchart('df-53a57b8e-2ee9-4888-b67f-5c887b032fe6')\"\n",
              "            title=\"Suggest charts\"\n",
              "            style=\"display:none;\">\n",
              "\n",
              "<svg xmlns=\"http://www.w3.org/2000/svg\" height=\"24px\"viewBox=\"0 0 24 24\"\n",
              "     width=\"24px\">\n",
              "    <g>\n",
              "        <path d=\"M19 3H5c-1.1 0-2 .9-2 2v14c0 1.1.9 2 2 2h14c1.1 0 2-.9 2-2V5c0-1.1-.9-2-2-2zM9 17H7v-7h2v7zm4 0h-2V7h2v10zm4 0h-2v-4h2v4z\"/>\n",
              "    </g>\n",
              "</svg>\n",
              "  </button>\n",
              "\n",
              "<style>\n",
              "  .colab-df-quickchart {\n",
              "      --bg-color: #E8F0FE;\n",
              "      --fill-color: #1967D2;\n",
              "      --hover-bg-color: #E2EBFA;\n",
              "      --hover-fill-color: #174EA6;\n",
              "      --disabled-fill-color: #AAA;\n",
              "      --disabled-bg-color: #DDD;\n",
              "  }\n",
              "\n",
              "  [theme=dark] .colab-df-quickchart {\n",
              "      --bg-color: #3B4455;\n",
              "      --fill-color: #D2E3FC;\n",
              "      --hover-bg-color: #434B5C;\n",
              "      --hover-fill-color: #FFFFFF;\n",
              "      --disabled-bg-color: #3B4455;\n",
              "      --disabled-fill-color: #666;\n",
              "  }\n",
              "\n",
              "  .colab-df-quickchart {\n",
              "    background-color: var(--bg-color);\n",
              "    border: none;\n",
              "    border-radius: 50%;\n",
              "    cursor: pointer;\n",
              "    display: none;\n",
              "    fill: var(--fill-color);\n",
              "    height: 32px;\n",
              "    padding: 0;\n",
              "    width: 32px;\n",
              "  }\n",
              "\n",
              "  .colab-df-quickchart:hover {\n",
              "    background-color: var(--hover-bg-color);\n",
              "    box-shadow: 0 1px 2px rgba(60, 64, 67, 0.3), 0 1px 3px 1px rgba(60, 64, 67, 0.15);\n",
              "    fill: var(--button-hover-fill-color);\n",
              "  }\n",
              "\n",
              "  .colab-df-quickchart-complete:disabled,\n",
              "  .colab-df-quickchart-complete:disabled:hover {\n",
              "    background-color: var(--disabled-bg-color);\n",
              "    fill: var(--disabled-fill-color);\n",
              "    box-shadow: none;\n",
              "  }\n",
              "\n",
              "  .colab-df-spinner {\n",
              "    border: 2px solid var(--fill-color);\n",
              "    border-color: transparent;\n",
              "    border-bottom-color: var(--fill-color);\n",
              "    animation:\n",
              "      spin 1s steps(1) infinite;\n",
              "  }\n",
              "\n",
              "  @keyframes spin {\n",
              "    0% {\n",
              "      border-color: transparent;\n",
              "      border-bottom-color: var(--fill-color);\n",
              "      border-left-color: var(--fill-color);\n",
              "    }\n",
              "    20% {\n",
              "      border-color: transparent;\n",
              "      border-left-color: var(--fill-color);\n",
              "      border-top-color: var(--fill-color);\n",
              "    }\n",
              "    30% {\n",
              "      border-color: transparent;\n",
              "      border-left-color: var(--fill-color);\n",
              "      border-top-color: var(--fill-color);\n",
              "      border-right-color: var(--fill-color);\n",
              "    }\n",
              "    40% {\n",
              "      border-color: transparent;\n",
              "      border-right-color: var(--fill-color);\n",
              "      border-top-color: var(--fill-color);\n",
              "    }\n",
              "    60% {\n",
              "      border-color: transparent;\n",
              "      border-right-color: var(--fill-color);\n",
              "    }\n",
              "    80% {\n",
              "      border-color: transparent;\n",
              "      border-right-color: var(--fill-color);\n",
              "      border-bottom-color: var(--fill-color);\n",
              "    }\n",
              "    90% {\n",
              "      border-color: transparent;\n",
              "      border-bottom-color: var(--fill-color);\n",
              "    }\n",
              "  }\n",
              "</style>\n",
              "\n",
              "  <script>\n",
              "    async function quickchart(key) {\n",
              "      const quickchartButtonEl =\n",
              "        document.querySelector('#' + key + ' button');\n",
              "      quickchartButtonEl.disabled = true;  // To prevent multiple clicks.\n",
              "      quickchartButtonEl.classList.add('colab-df-spinner');\n",
              "      try {\n",
              "        const charts = await google.colab.kernel.invokeFunction(\n",
              "            'suggestCharts', [key], {});\n",
              "      } catch (error) {\n",
              "        console.error('Error during call to suggestCharts:', error);\n",
              "      }\n",
              "      quickchartButtonEl.classList.remove('colab-df-spinner');\n",
              "      quickchartButtonEl.classList.add('colab-df-quickchart-complete');\n",
              "    }\n",
              "    (() => {\n",
              "      let quickchartButtonEl =\n",
              "        document.querySelector('#df-53a57b8e-2ee9-4888-b67f-5c887b032fe6 button');\n",
              "      quickchartButtonEl.style.display =\n",
              "        google.colab.kernel.accessAllowed ? 'block' : 'none';\n",
              "    })();\n",
              "  </script>\n",
              "</div>\n",
              "\n",
              "    </div>\n",
              "  </div>\n"
            ],
            "application/vnd.google.colaboratory.intrinsic+json": {
              "type": "dataframe"
            }
          },
          "metadata": {},
          "execution_count": 45
        }
      ]
    },
    {
      "cell_type": "markdown",
      "metadata": {
        "id": "GZxbX9htv6HQ"
      },
      "source": [
        "## Solve-it!\n",
        "\n",
        "Use the data on NFL franchise values included in the NFL Valuation data source (https://raw.githubusercontent.com/dustywhite7/Econ8320/master/AssignmentData/assignment12Data.csv) file to implement a Random Forest Classifier in sklearn using 100 trees to predict team-years when `Playoffs` takes the value `1` (when a team made the playoffs in that season).\n",
        "\n",
        "- Use Patsy to create `x2` and `y2` matrices\n",
        "- Create the classifier\n",
        "- Fit the classifier, and store the fitted model with the name `playoffForest`\n",
        "\n",
        "Place all code for this exercise in the cell labeled `#si-random-forest` file found below."
      ]
    },
    {
      "cell_type": "code",
      "execution_count": 62,
      "metadata": {
        "colab": {
          "base_uri": "https://localhost:8080/"
        },
        "id": "cmF0_2Kev6HQ",
        "outputId": "e4ec4f35-7a61-419e-94ef-ae9b771995fc"
      },
      "outputs": [
        {
          "output_type": "stream",
          "name": "stdout",
          "text": [
            "In-sample accuracy: 1.0\n"
          ]
        }
      ],
      "source": [
        "#si-random-forest\n",
        "from sklearn import tree\n",
        "from sklearn.metrics import accuracy_score\n",
        "import pandas as pd\n",
        "import patsy as pt\n",
        "from sklearn.ensemble import RandomForestClassifier\n",
        "\n",
        "data = pd.read_csv(\"https://raw.githubusercontent.com/dustywhite7/Econ8320/master/AssignmentData/assignment12Data.csv\")\n",
        "\n",
        "y2, x2 = pt.dmatrices(\"Playoffs ~ Teamno + Year\", data=data)\n",
        "\n",
        "playoffForest = RandomForestClassifier(n_estimators=100)\n",
        "playoffForest = playoffForest.fit(x2, y2.squeeze())\n",
        "\n",
        "pred = playoffForest.predict(x2)\n",
        "\n",
        "print(\"In-sample accuracy: {}\".format(accuracy_score(y2.squeeze(), pred)))\n"
      ]
    },
    {
      "cell_type": "code",
      "source": [
        "data.head()"
      ],
      "metadata": {
        "colab": {
          "base_uri": "https://localhost:8080/",
          "height": 330
        },
        "collapsed": true,
        "id": "VeAyWN92H74t",
        "outputId": "8ae31a57-8ec6-4e55-892a-1918e3782680"
      },
      "execution_count": 56,
      "outputs": [
        {
          "output_type": "execute_result",
          "data": {
            "text/plain": [
              "                   Team  Teamno  Year  Value  ChangeValue  DebtToValue  \\\n",
              "0        Dallas Cowboys       1  1999    663         61.0            6   \n",
              "1   Washington Redskins       2  1999    607         51.0           82   \n",
              "2  Tampa Bay Buccaneers       3  1999    502         45.0           28   \n",
              "3     Carolina Panthers       4  1999    488         34.0           34   \n",
              "4  New England Patriots       5  1999    460         83.0           37   \n",
              "\n",
              "   Revenues  OperatingIncome  Expansion  TVDeal  LaborContract  Playoffs  \\\n",
              "0     161.7             56.7          0       1              0         1   \n",
              "1     151.8             48.8          0       1              0         0   \n",
              "2     128.7             41.2          0       1              0         0   \n",
              "3     128.5             18.8          0       1              0         0   \n",
              "4     107.6             13.5          0       1              0         1   \n",
              "\n",
              "   SuperBowl  \n",
              "0          0  \n",
              "1          0  \n",
              "2          0  \n",
              "3          0  \n",
              "4          0  "
            ],
            "text/html": [
              "\n",
              "  <div id=\"df-1cb99a5b-e070-4a33-8bb2-6a9f91940916\" class=\"colab-df-container\">\n",
              "    <div>\n",
              "<style scoped>\n",
              "    .dataframe tbody tr th:only-of-type {\n",
              "        vertical-align: middle;\n",
              "    }\n",
              "\n",
              "    .dataframe tbody tr th {\n",
              "        vertical-align: top;\n",
              "    }\n",
              "\n",
              "    .dataframe thead th {\n",
              "        text-align: right;\n",
              "    }\n",
              "</style>\n",
              "<table border=\"1\" class=\"dataframe\">\n",
              "  <thead>\n",
              "    <tr style=\"text-align: right;\">\n",
              "      <th></th>\n",
              "      <th>Team</th>\n",
              "      <th>Teamno</th>\n",
              "      <th>Year</th>\n",
              "      <th>Value</th>\n",
              "      <th>ChangeValue</th>\n",
              "      <th>DebtToValue</th>\n",
              "      <th>Revenues</th>\n",
              "      <th>OperatingIncome</th>\n",
              "      <th>Expansion</th>\n",
              "      <th>TVDeal</th>\n",
              "      <th>LaborContract</th>\n",
              "      <th>Playoffs</th>\n",
              "      <th>SuperBowl</th>\n",
              "    </tr>\n",
              "  </thead>\n",
              "  <tbody>\n",
              "    <tr>\n",
              "      <th>0</th>\n",
              "      <td>Dallas Cowboys</td>\n",
              "      <td>1</td>\n",
              "      <td>1999</td>\n",
              "      <td>663</td>\n",
              "      <td>61.0</td>\n",
              "      <td>6</td>\n",
              "      <td>161.7</td>\n",
              "      <td>56.7</td>\n",
              "      <td>0</td>\n",
              "      <td>1</td>\n",
              "      <td>0</td>\n",
              "      <td>1</td>\n",
              "      <td>0</td>\n",
              "    </tr>\n",
              "    <tr>\n",
              "      <th>1</th>\n",
              "      <td>Washington Redskins</td>\n",
              "      <td>2</td>\n",
              "      <td>1999</td>\n",
              "      <td>607</td>\n",
              "      <td>51.0</td>\n",
              "      <td>82</td>\n",
              "      <td>151.8</td>\n",
              "      <td>48.8</td>\n",
              "      <td>0</td>\n",
              "      <td>1</td>\n",
              "      <td>0</td>\n",
              "      <td>0</td>\n",
              "      <td>0</td>\n",
              "    </tr>\n",
              "    <tr>\n",
              "      <th>2</th>\n",
              "      <td>Tampa Bay Buccaneers</td>\n",
              "      <td>3</td>\n",
              "      <td>1999</td>\n",
              "      <td>502</td>\n",
              "      <td>45.0</td>\n",
              "      <td>28</td>\n",
              "      <td>128.7</td>\n",
              "      <td>41.2</td>\n",
              "      <td>0</td>\n",
              "      <td>1</td>\n",
              "      <td>0</td>\n",
              "      <td>0</td>\n",
              "      <td>0</td>\n",
              "    </tr>\n",
              "    <tr>\n",
              "      <th>3</th>\n",
              "      <td>Carolina Panthers</td>\n",
              "      <td>4</td>\n",
              "      <td>1999</td>\n",
              "      <td>488</td>\n",
              "      <td>34.0</td>\n",
              "      <td>34</td>\n",
              "      <td>128.5</td>\n",
              "      <td>18.8</td>\n",
              "      <td>0</td>\n",
              "      <td>1</td>\n",
              "      <td>0</td>\n",
              "      <td>0</td>\n",
              "      <td>0</td>\n",
              "    </tr>\n",
              "    <tr>\n",
              "      <th>4</th>\n",
              "      <td>New England Patriots</td>\n",
              "      <td>5</td>\n",
              "      <td>1999</td>\n",
              "      <td>460</td>\n",
              "      <td>83.0</td>\n",
              "      <td>37</td>\n",
              "      <td>107.6</td>\n",
              "      <td>13.5</td>\n",
              "      <td>0</td>\n",
              "      <td>1</td>\n",
              "      <td>0</td>\n",
              "      <td>1</td>\n",
              "      <td>0</td>\n",
              "    </tr>\n",
              "  </tbody>\n",
              "</table>\n",
              "</div>\n",
              "    <div class=\"colab-df-buttons\">\n",
              "\n",
              "  <div class=\"colab-df-container\">\n",
              "    <button class=\"colab-df-convert\" onclick=\"convertToInteractive('df-1cb99a5b-e070-4a33-8bb2-6a9f91940916')\"\n",
              "            title=\"Convert this dataframe to an interactive table.\"\n",
              "            style=\"display:none;\">\n",
              "\n",
              "  <svg xmlns=\"http://www.w3.org/2000/svg\" height=\"24px\" viewBox=\"0 -960 960 960\">\n",
              "    <path d=\"M120-120v-720h720v720H120Zm60-500h600v-160H180v160Zm220 220h160v-160H400v160Zm0 220h160v-160H400v160ZM180-400h160v-160H180v160Zm440 0h160v-160H620v160ZM180-180h160v-160H180v160Zm440 0h160v-160H620v160Z\"/>\n",
              "  </svg>\n",
              "    </button>\n",
              "\n",
              "  <style>\n",
              "    .colab-df-container {\n",
              "      display:flex;\n",
              "      gap: 12px;\n",
              "    }\n",
              "\n",
              "    .colab-df-convert {\n",
              "      background-color: #E8F0FE;\n",
              "      border: none;\n",
              "      border-radius: 50%;\n",
              "      cursor: pointer;\n",
              "      display: none;\n",
              "      fill: #1967D2;\n",
              "      height: 32px;\n",
              "      padding: 0 0 0 0;\n",
              "      width: 32px;\n",
              "    }\n",
              "\n",
              "    .colab-df-convert:hover {\n",
              "      background-color: #E2EBFA;\n",
              "      box-shadow: 0px 1px 2px rgba(60, 64, 67, 0.3), 0px 1px 3px 1px rgba(60, 64, 67, 0.15);\n",
              "      fill: #174EA6;\n",
              "    }\n",
              "\n",
              "    .colab-df-buttons div {\n",
              "      margin-bottom: 4px;\n",
              "    }\n",
              "\n",
              "    [theme=dark] .colab-df-convert {\n",
              "      background-color: #3B4455;\n",
              "      fill: #D2E3FC;\n",
              "    }\n",
              "\n",
              "    [theme=dark] .colab-df-convert:hover {\n",
              "      background-color: #434B5C;\n",
              "      box-shadow: 0px 1px 3px 1px rgba(0, 0, 0, 0.15);\n",
              "      filter: drop-shadow(0px 1px 2px rgba(0, 0, 0, 0.3));\n",
              "      fill: #FFFFFF;\n",
              "    }\n",
              "  </style>\n",
              "\n",
              "    <script>\n",
              "      const buttonEl =\n",
              "        document.querySelector('#df-1cb99a5b-e070-4a33-8bb2-6a9f91940916 button.colab-df-convert');\n",
              "      buttonEl.style.display =\n",
              "        google.colab.kernel.accessAllowed ? 'block' : 'none';\n",
              "\n",
              "      async function convertToInteractive(key) {\n",
              "        const element = document.querySelector('#df-1cb99a5b-e070-4a33-8bb2-6a9f91940916');\n",
              "        const dataTable =\n",
              "          await google.colab.kernel.invokeFunction('convertToInteractive',\n",
              "                                                    [key], {});\n",
              "        if (!dataTable) return;\n",
              "\n",
              "        const docLinkHtml = 'Like what you see? Visit the ' +\n",
              "          '<a target=\"_blank\" href=https://colab.research.google.com/notebooks/data_table.ipynb>data table notebook</a>'\n",
              "          + ' to learn more about interactive tables.';\n",
              "        element.innerHTML = '';\n",
              "        dataTable['output_type'] = 'display_data';\n",
              "        await google.colab.output.renderOutput(dataTable, element);\n",
              "        const docLink = document.createElement('div');\n",
              "        docLink.innerHTML = docLinkHtml;\n",
              "        element.appendChild(docLink);\n",
              "      }\n",
              "    </script>\n",
              "  </div>\n",
              "\n",
              "\n",
              "<div id=\"df-e0b11999-d369-49ae-9f0f-b1cfef26d2d0\">\n",
              "  <button class=\"colab-df-quickchart\" onclick=\"quickchart('df-e0b11999-d369-49ae-9f0f-b1cfef26d2d0')\"\n",
              "            title=\"Suggest charts\"\n",
              "            style=\"display:none;\">\n",
              "\n",
              "<svg xmlns=\"http://www.w3.org/2000/svg\" height=\"24px\"viewBox=\"0 0 24 24\"\n",
              "     width=\"24px\">\n",
              "    <g>\n",
              "        <path d=\"M19 3H5c-1.1 0-2 .9-2 2v14c0 1.1.9 2 2 2h14c1.1 0 2-.9 2-2V5c0-1.1-.9-2-2-2zM9 17H7v-7h2v7zm4 0h-2V7h2v10zm4 0h-2v-4h2v4z\"/>\n",
              "    </g>\n",
              "</svg>\n",
              "  </button>\n",
              "\n",
              "<style>\n",
              "  .colab-df-quickchart {\n",
              "      --bg-color: #E8F0FE;\n",
              "      --fill-color: #1967D2;\n",
              "      --hover-bg-color: #E2EBFA;\n",
              "      --hover-fill-color: #174EA6;\n",
              "      --disabled-fill-color: #AAA;\n",
              "      --disabled-bg-color: #DDD;\n",
              "  }\n",
              "\n",
              "  [theme=dark] .colab-df-quickchart {\n",
              "      --bg-color: #3B4455;\n",
              "      --fill-color: #D2E3FC;\n",
              "      --hover-bg-color: #434B5C;\n",
              "      --hover-fill-color: #FFFFFF;\n",
              "      --disabled-bg-color: #3B4455;\n",
              "      --disabled-fill-color: #666;\n",
              "  }\n",
              "\n",
              "  .colab-df-quickchart {\n",
              "    background-color: var(--bg-color);\n",
              "    border: none;\n",
              "    border-radius: 50%;\n",
              "    cursor: pointer;\n",
              "    display: none;\n",
              "    fill: var(--fill-color);\n",
              "    height: 32px;\n",
              "    padding: 0;\n",
              "    width: 32px;\n",
              "  }\n",
              "\n",
              "  .colab-df-quickchart:hover {\n",
              "    background-color: var(--hover-bg-color);\n",
              "    box-shadow: 0 1px 2px rgba(60, 64, 67, 0.3), 0 1px 3px 1px rgba(60, 64, 67, 0.15);\n",
              "    fill: var(--button-hover-fill-color);\n",
              "  }\n",
              "\n",
              "  .colab-df-quickchart-complete:disabled,\n",
              "  .colab-df-quickchart-complete:disabled:hover {\n",
              "    background-color: var(--disabled-bg-color);\n",
              "    fill: var(--disabled-fill-color);\n",
              "    box-shadow: none;\n",
              "  }\n",
              "\n",
              "  .colab-df-spinner {\n",
              "    border: 2px solid var(--fill-color);\n",
              "    border-color: transparent;\n",
              "    border-bottom-color: var(--fill-color);\n",
              "    animation:\n",
              "      spin 1s steps(1) infinite;\n",
              "  }\n",
              "\n",
              "  @keyframes spin {\n",
              "    0% {\n",
              "      border-color: transparent;\n",
              "      border-bottom-color: var(--fill-color);\n",
              "      border-left-color: var(--fill-color);\n",
              "    }\n",
              "    20% {\n",
              "      border-color: transparent;\n",
              "      border-left-color: var(--fill-color);\n",
              "      border-top-color: var(--fill-color);\n",
              "    }\n",
              "    30% {\n",
              "      border-color: transparent;\n",
              "      border-left-color: var(--fill-color);\n",
              "      border-top-color: var(--fill-color);\n",
              "      border-right-color: var(--fill-color);\n",
              "    }\n",
              "    40% {\n",
              "      border-color: transparent;\n",
              "      border-right-color: var(--fill-color);\n",
              "      border-top-color: var(--fill-color);\n",
              "    }\n",
              "    60% {\n",
              "      border-color: transparent;\n",
              "      border-right-color: var(--fill-color);\n",
              "    }\n",
              "    80% {\n",
              "      border-color: transparent;\n",
              "      border-right-color: var(--fill-color);\n",
              "      border-bottom-color: var(--fill-color);\n",
              "    }\n",
              "    90% {\n",
              "      border-color: transparent;\n",
              "      border-bottom-color: var(--fill-color);\n",
              "    }\n",
              "  }\n",
              "</style>\n",
              "\n",
              "  <script>\n",
              "    async function quickchart(key) {\n",
              "      const quickchartButtonEl =\n",
              "        document.querySelector('#' + key + ' button');\n",
              "      quickchartButtonEl.disabled = true;  // To prevent multiple clicks.\n",
              "      quickchartButtonEl.classList.add('colab-df-spinner');\n",
              "      try {\n",
              "        const charts = await google.colab.kernel.invokeFunction(\n",
              "            'suggestCharts', [key], {});\n",
              "      } catch (error) {\n",
              "        console.error('Error during call to suggestCharts:', error);\n",
              "      }\n",
              "      quickchartButtonEl.classList.remove('colab-df-spinner');\n",
              "      quickchartButtonEl.classList.add('colab-df-quickchart-complete');\n",
              "    }\n",
              "    (() => {\n",
              "      let quickchartButtonEl =\n",
              "        document.querySelector('#df-e0b11999-d369-49ae-9f0f-b1cfef26d2d0 button');\n",
              "      quickchartButtonEl.style.display =\n",
              "        google.colab.kernel.accessAllowed ? 'block' : 'none';\n",
              "    })();\n",
              "  </script>\n",
              "</div>\n",
              "\n",
              "    </div>\n",
              "  </div>\n"
            ],
            "application/vnd.google.colaboratory.intrinsic+json": {
              "type": "dataframe",
              "variable_name": "data",
              "summary": "{\n  \"name\": \"data\",\n  \"rows\": 539,\n  \"fields\": [\n    {\n      \"column\": \"Team\",\n      \"properties\": {\n        \"dtype\": \"category\",\n        \"num_unique_values\": 32,\n        \"samples\": [\n          \"Detroit Lions\",\n          \"Tennessee Titans\",\n          \"Minnesota Vikings\"\n        ],\n        \"semantic_type\": \"\",\n        \"description\": \"\"\n      }\n    },\n    {\n      \"column\": \"Teamno\",\n      \"properties\": {\n        \"dtype\": \"number\",\n        \"std\": 9,\n        \"min\": 1,\n        \"max\": 32,\n        \"num_unique_values\": 32,\n        \"samples\": [\n          30,\n          16,\n          25\n        ],\n        \"semantic_type\": \"\",\n        \"description\": \"\"\n      }\n    },\n    {\n      \"column\": \"Year\",\n      \"properties\": {\n        \"dtype\": \"number\",\n        \"std\": 4,\n        \"min\": 1999,\n        \"max\": 2015,\n        \"num_unique_values\": 17,\n        \"samples\": [\n          1999,\n          2000,\n          2004\n        ],\n        \"semantic_type\": \"\",\n        \"description\": \"\"\n      }\n    },\n    {\n      \"column\": \"Value\",\n      \"properties\": {\n        \"dtype\": \"number\",\n        \"std\": 463,\n        \"min\": 293,\n        \"max\": 4000,\n        \"num_unique_values\": 435,\n        \"samples\": [\n          1150,\n          346,\n          671\n        ],\n        \"semantic_type\": \"\",\n        \"description\": \"\"\n      }\n    },\n    {\n      \"column\": \"ChangeValue\",\n      \"properties\": {\n        \"dtype\": \"number\",\n        \"std\": 13.051506062541968,\n        \"min\": -16.0,\n        \"max\": 83.0,\n        \"num_unique_values\": 68,\n        \"samples\": [\n          0.0,\n          38.0,\n          83.0\n        ],\n        \"semantic_type\": \"\",\n        \"description\": \"\"\n      }\n    },\n    {\n      \"column\": \"DebtToValue\",\n      \"properties\": {\n        \"dtype\": \"number\",\n        \"std\": 14,\n        \"min\": 0,\n        \"max\": 83,\n        \"num_unique_values\": 69,\n        \"samples\": [\n          83,\n          6,\n          36\n        ],\n        \"semantic_type\": \"\",\n        \"description\": \"\"\n      }\n    },\n    {\n      \"column\": \"Revenues\",\n      \"properties\": {\n        \"dtype\": \"number\",\n        \"std\": 84.5744353028723,\n        \"min\": 90.0,\n        \"max\": 995.0,\n        \"num_unique_values\": 272,\n        \"samples\": [\n          176.4,\n          183.0,\n          117.0\n        ],\n        \"semantic_type\": \"\",\n        \"description\": \"\"\n      }\n    },\n    {\n      \"column\": \"OperatingIncome\",\n      \"properties\": {\n        \"dtype\": \"number\",\n        \"std\": 32.01464551363589,\n        \"min\": -19.1,\n        \"max\": 270.0,\n        \"num_unique_values\": 371,\n        \"samples\": [\n          44.0,\n          21.7,\n          12.1\n        ],\n        \"semantic_type\": \"\",\n        \"description\": \"\"\n      }\n    },\n    {\n      \"column\": \"Expansion\",\n      \"properties\": {\n        \"dtype\": \"number\",\n        \"std\": 0,\n        \"min\": 0,\n        \"max\": 1,\n        \"num_unique_values\": 2,\n        \"samples\": [\n          1,\n          0\n        ],\n        \"semantic_type\": \"\",\n        \"description\": \"\"\n      }\n    },\n    {\n      \"column\": \"TVDeal\",\n      \"properties\": {\n        \"dtype\": \"number\",\n        \"std\": 0,\n        \"min\": 0,\n        \"max\": 1,\n        \"num_unique_values\": 2,\n        \"samples\": [\n          0,\n          1\n        ],\n        \"semantic_type\": \"\",\n        \"description\": \"\"\n      }\n    },\n    {\n      \"column\": \"LaborContract\",\n      \"properties\": {\n        \"dtype\": \"number\",\n        \"std\": 0,\n        \"min\": 0,\n        \"max\": 1,\n        \"num_unique_values\": 2,\n        \"samples\": [\n          1,\n          0\n        ],\n        \"semantic_type\": \"\",\n        \"description\": \"\"\n      }\n    },\n    {\n      \"column\": \"Playoffs\",\n      \"properties\": {\n        \"dtype\": \"number\",\n        \"std\": 0,\n        \"min\": 0,\n        \"max\": 1,\n        \"num_unique_values\": 2,\n        \"samples\": [\n          0,\n          1\n        ],\n        \"semantic_type\": \"\",\n        \"description\": \"\"\n      }\n    },\n    {\n      \"column\": \"SuperBowl\",\n      \"properties\": {\n        \"dtype\": \"number\",\n        \"std\": 0,\n        \"min\": 0,\n        \"max\": 1,\n        \"num_unique_values\": 2,\n        \"samples\": [\n          1,\n          0\n        ],\n        \"semantic_type\": \"\",\n        \"description\": \"\"\n      }\n    }\n  ]\n}"
            }
          },
          "metadata": {},
          "execution_count": 56
        }
      ]
    }
  ],
  "metadata": {
    "celltoolbar": "Create Assignment",
    "kernelspec": {
      "display_name": "Python 3 (ipykernel)",
      "language": "python",
      "name": "python3"
    },
    "language_info": {
      "codemirror_mode": {
        "name": "ipython",
        "version": 3
      },
      "file_extension": ".py",
      "mimetype": "text/x-python",
      "name": "python",
      "nbconvert_exporter": "python",
      "pygments_lexer": "ipython3",
      "version": "3.9.13"
    },
    "colab": {
      "provenance": []
    }
  },
  "nbformat": 4,
  "nbformat_minor": 0
}